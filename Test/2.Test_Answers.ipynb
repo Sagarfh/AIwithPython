{
 "cells": [
  {
   "cell_type": "code",
   "execution_count": 1,
   "metadata": {},
   "outputs": [
    {
     "name": "stdout",
     "output_type": "stream",
     "text": [
      "['sagar@gmail.com', 'hemanth@gmail.com', 'yusuf@gmail.com', 'ijaz@gmail.com']\n"
     ]
    }
   ],
   "source": [
    "\"\"\" \n",
    "1.. Write a python program to fetch only Email ID from text file  which include following \n",
    "fields -: \n",
    "i)Name \n",
    "ii)Mobile Number \n",
    "iii)Roll Number \n",
    "iv)Email ID\n",
    "\n",
    "\"\"\"\n",
    "\n",
    "\n",
    "import re \n",
    "openfile = open('2Test_data.txt', 'r')\n",
    "with openfile as input:\n",
    "    print (re.findall(r'\\b([a-z0-9-_.]+?@[a-z0-9-_.]+)\\b', input.read(), re.I))"
   ]
  },
  {
   "cell_type": "code",
   "execution_count": 2,
   "metadata": {},
   "outputs": [
    {
     "name": "stdout",
     "output_type": "stream",
     "text": [
      "The intersection of  [1, 2, 3, 4]  and  [2, 3, 5, 6]  is  {2, 3}\n"
     ]
    }
   ],
   "source": [
    "\"\"\" \n",
    "2.Write a python program to find the intersection of elements from two list\n",
    "\"\"\"\n",
    "\n",
    "list1 = [1,2,3,4]\n",
    "list2 = [2,3,5,6]\n",
    "\n",
    "list3 = set(list1).intersection(list2)\n",
    "print(\"The intersection of \",list1,\" and \",list2,\" is \",list3)"
   ]
  },
  {
   "cell_type": "code",
   "execution_count": 3,
   "metadata": {},
   "outputs": [
    {
     "name": "stdout",
     "output_type": "stream",
     "text": [
      "['Rollno', 'name', 'class', 'stream', 'agg', 'percenrage', 'result']\n",
      "['1', 'ramji', '12B', 'SCIENCE', '484', '96.8', 'PASS']\n",
      "['2', 'anuj', '11A', 'COMM', '452', '90.4', 'PASS']\n",
      "['3', 'ujjwal', '12C', 'HUMAN', '385', '77', 'PASS']\n",
      "['4', 'shlok', '11B', 'SCIENCE', '490', '98', 'PASS']\n",
      "['5', 'nipun', '11A', 'COMM', '347', '69.4', 'PASS']\n",
      "['6', 'arushi', '12C', 'COMM', '456', '91.2', 'PASS']\n",
      "['7', 'ayushi', '11B', 'HUMAN', '345', '69', 'PASS']\n",
      "['8', 'sehaj', '12A', 'SCIENCE', '421', '84.2', 'PASS']\n",
      "['9', 'swarnima', '12A', 'SCIENCE', '345', '69', 'PASS']\n",
      "['10', 'harsh', '11C', 'HUMAN', '455', '91', 'PASS']\n"
     ]
    }
   ],
   "source": [
    "\"\"\" \n",
    "3. Suppose a CSV file ‘student.csv’ is already available to you with the following records. \n",
    "write a python program to read this csv file and display its contents on the screen.\n",
    "\"\"\"\n",
    "\n",
    "import csv\n",
    "reader = csv.reader(open(\"2Test_student.csv\"))\n",
    "for row in reader:\n",
    "    print(row)\n"
   ]
  },
  {
   "cell_type": "code",
   "execution_count": 4,
   "metadata": {},
   "outputs": [],
   "source": [
    "\"\"\" \n",
    "4.Write a Python program to create a CSV file ‘student1.csv’ for the following data\n",
    "\n",
    "\"\"\"\n",
    "import csv\n",
    "with open('2Test_student1.csv','w') as file:\n",
    "    writer = csv.writer(file)\n",
    "    writer.writerow([\"Admno\",\"name\",\"class\",\"section\"])\n",
    "    writer.writerow([101,\"rakesh\",10,\"D\"])\n",
    "    writer.writerow([102,\"swarnima\",12,\"A\"])\n",
    "    writer.writerow([103,\"Samriddhi\",5,\"B\"])\n",
    "    writer.writerow([104,\"ujjwal\",11,\"D\"])"
   ]
  },
  {
   "cell_type": "code",
   "execution_count": 5,
   "metadata": {},
   "outputs": [
    {
     "name": "stdout",
     "output_type": "stream",
     "text": [
      "The character has repeated  4  times.\n"
     ]
    }
   ],
   "source": [
    "\"\"\" \n",
    "5. Program to count the occurrence of a specific character in a file. \n",
    "\"\"\"\n",
    "\n",
    "# Program to get letter count in a text file\n",
    "\n",
    "# explicit function to return the letter count\n",
    "def letterFrequency(fileName, letter):\n",
    "\t# open file in read mode\n",
    "\tfile = open(fileName, 'r')\n",
    "\n",
    "\t# store content of the file in a variable\n",
    "\ttext = file.read()\n",
    "\n",
    "\t# using count()\n",
    "\treturn text.count(letter)\n",
    "\n",
    "\n",
    "# call the function and display the letter count\n",
    "print(\"The character has repeated \",letterFrequency('2Test_text.txt', 'g'),\" times.\")\n"
   ]
  },
  {
   "cell_type": "code",
   "execution_count": null,
   "metadata": {},
   "outputs": [],
   "source": []
  }
 ],
 "metadata": {
  "kernelspec": {
   "display_name": "Python 3.10.0 64-bit",
   "language": "python",
   "name": "python3"
  },
  "language_info": {
   "codemirror_mode": {
    "name": "ipython",
    "version": 3
   },
   "file_extension": ".py",
   "mimetype": "text/x-python",
   "name": "python",
   "nbconvert_exporter": "python",
   "pygments_lexer": "ipython3",
   "version": "3.10.0"
  },
  "orig_nbformat": 4,
  "vscode": {
   "interpreter": {
    "hash": "9b4d75ac280b6c7c3aa43866cb82dc88915409b55fec83a093dd0284cb58708e"
   }
  }
 },
 "nbformat": 4,
 "nbformat_minor": 2
}
