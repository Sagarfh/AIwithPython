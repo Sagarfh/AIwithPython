{
 "cells": [
  {
   "cell_type": "code",
   "execution_count": 12,
   "metadata": {},
   "outputs": [
    {
     "name": "stdout",
     "output_type": "stream",
     "text": [
      "['sagar@gmail.com', 'hemanth@gmail.com', 'yusuf@gmail.com', 'ijaz@gmail.com']\n"
     ]
    }
   ],
   "source": [
    "\"\"\" \n",
    "1.. Write a python program to fetch only Email ID from text file  which include following \n",
    "fields -: \n",
    "i)Name \n",
    "ii)Mobile Number \n",
    "iii)Roll Number \n",
    "iv)Email ID\n",
    "\n",
    "\"\"\"\n",
    "\n",
    "\n",
    "import re \n",
    "openfile = open('data.txt', 'r')\n",
    "with openfile as input:\n",
    "    print (re.findall(r'\\b([a-z0-9-_.]+?@[a-z0-9-_.]+)\\b', input.read(), re.I))"
   ]
  },
  {
   "cell_type": "code",
   "execution_count": 14,
   "metadata": {},
   "outputs": [
    {
     "name": "stdout",
     "output_type": "stream",
     "text": [
      "The intersection of  [1, 2, 3, 4]  and  [2, 3, 5, 6]  is  {2, 3}\n"
     ]
    }
   ],
   "source": [
    "\"\"\" \n",
    "2.Write a python program to find the intersection of elements from two list\n",
    "\"\"\"\n",
    "\n",
    "list1 = [1,2,3,4]\n",
    "list2 = [2,3,5,6]\n",
    "\n",
    "list3 = set(list1).intersection(list2)\n",
    "print(\"The intersection of \",list1,\" and \",list2,\" is \",list3)"
   ]
  },
  {
   "cell_type": "code",
   "execution_count": null,
   "metadata": {},
   "outputs": [],
   "source": []
  }
 ],
 "metadata": {
  "kernelspec": {
   "display_name": "Python 3.10.0 64-bit",
   "language": "python",
   "name": "python3"
  },
  "language_info": {
   "codemirror_mode": {
    "name": "ipython",
    "version": 3
   },
   "file_extension": ".py",
   "mimetype": "text/x-python",
   "name": "python",
   "nbconvert_exporter": "python",
   "pygments_lexer": "ipython3",
   "version": "3.10.0"
  },
  "orig_nbformat": 4,
  "vscode": {
   "interpreter": {
    "hash": "9b4d75ac280b6c7c3aa43866cb82dc88915409b55fec83a093dd0284cb58708e"
   }
  }
 },
 "nbformat": 4,
 "nbformat_minor": 2
}
