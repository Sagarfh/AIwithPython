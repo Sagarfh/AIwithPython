{
 "cells": [
  {
   "cell_type": "code",
   "execution_count": 7,
   "metadata": {},
   "outputs": [
    {
     "data": {
      "text/plain": [
       "array([0.0625, 0.25  , 0.375 , 0.25  , 0.0625])"
      ]
     },
     "execution_count": 7,
     "metadata": {},
     "output_type": "execute_result"
    }
   ],
   "source": [
    "from scipy import stats\n",
    "import numpy as np\n",
    "\n",
    "(p, num) = (0.5, 4)\n",
    "binomDist = stats.binom(num, p)\n",
    "\n",
    "binomDist.pmf(np.arange(5))"
   ]
  },
  {
   "cell_type": "code",
   "execution_count": 14,
   "metadata": {},
   "outputs": [
    {
     "data": {
      "text/plain": [
       "array([-3.37197479, -0.62802521])"
      ]
     },
     "execution_count": 14,
     "metadata": {},
     "output_type": "execute_result"
    }
   ],
   "source": [
    "import numpy as np\n",
    "from scipy import stats\n",
    "\n",
    "mu = -2\n",
    "sigma = 0.7\n",
    "\n",
    "myDistribution = stats.norm(mu, sigma)\n",
    "\n",
    "significanceLevel = 0.05\n",
    "\n",
    "myDistribution.ppf([significanceLevel/2, 1-significanceLevel/2] )"
   ]
  },
  {
   "cell_type": "code",
   "execution_count": 17,
   "metadata": {},
   "outputs": [
    {
     "data": {
      "text/plain": [
       "0.11816486815719918"
      ]
     },
     "execution_count": 17,
     "metadata": {},
     "output_type": "execute_result"
    }
   ],
   "source": [
    "\"\"\" \n",
    "The chance that a healthy baby weighs 2.6 kg or less is 11.8%(darker area). The chance\n",
    "that the difference from the mean is as extreme or more extreme than for 2.6 kg is twice that much,\n",
    "as the lighter area must also be considered\n",
    "\n",
    "\n",
    "Interpret the result -> If the baby is healthy, the chance that its weight deviates\n",
    "by at least 0.9 kg from the mean is 2*11.8% = 23.6%. This is not significant,\n",
    "so we do not have sufficient evidence to reject our hypothesis, and our baby is\n",
    "regarded as healthy\n",
    "\n",
    "\"\"\"\n",
    "\n",
    "from scipy import stats\n",
    "\n",
    "nd = stats.norm(3.5, 0.76)\n",
    "nd.cdf(2.6)"
   ]
  },
  {
   "cell_type": "code",
   "execution_count": null,
   "metadata": {},
   "outputs": [],
   "source": []
  }
 ],
 "metadata": {
  "kernelspec": {
   "display_name": "Python 3.10.0 64-bit",
   "language": "python",
   "name": "python3"
  },
  "language_info": {
   "codemirror_mode": {
    "name": "ipython",
    "version": 3
   },
   "file_extension": ".py",
   "mimetype": "text/x-python",
   "name": "python",
   "nbconvert_exporter": "python",
   "pygments_lexer": "ipython3",
   "version": "3.10.0"
  },
  "orig_nbformat": 4,
  "vscode": {
   "interpreter": {
    "hash": "9b4d75ac280b6c7c3aa43866cb82dc88915409b55fec83a093dd0284cb58708e"
   }
  }
 },
 "nbformat": 4,
 "nbformat_minor": 2
}
