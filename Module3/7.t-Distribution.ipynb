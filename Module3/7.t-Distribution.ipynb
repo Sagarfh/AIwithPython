{
 "cells": [
  {
   "cell_type": "code",
   "execution_count": 1,
   "metadata": {},
   "outputs": [
    {
     "data": {
      "text/plain": [
       "2.0930240544082634"
      ]
     },
     "execution_count": 1,
     "metadata": {},
     "output_type": "execute_result"
    }
   ],
   "source": [
    "\"\"\"  \n",
    "The following example shows how to calculate the t-values for the 95%-CI, for\n",
    "n = 20. The lower end of the 95% CI is the value that is larger than 2.5% of the\n",
    "distribution; and the upper end of the 95%-CI is the value that is larger than 97.5%\n",
    "of the distribution. These values can be obtained either with the percentile point\n",
    "function (PPF), or with the inverse survival function (ISF). For comparison, I also\n",
    "calculate the corresponding value from the normal distribution:\n",
    "\n",
    "\"\"\"\n",
    "\n",
    "import numpy as np\n",
    "from scipy import stats\n",
    "\n",
    "n = 20\n",
    "df = n-1\n",
    "alpha = 0.05\n",
    "\n",
    "stats.t(df).isf(alpha/2)"
   ]
  },
  {
   "cell_type": "code",
   "execution_count": 2,
   "metadata": {},
   "outputs": [
    {
     "data": {
      "text/plain": [
       "1.9599639845400545"
      ]
     },
     "execution_count": 2,
     "metadata": {},
     "output_type": "execute_result"
    }
   ],
   "source": [
    "\n",
    "stats.norm.isf(alpha/2)"
   ]
  },
  {
   "cell_type": "code",
   "execution_count": 7,
   "metadata": {},
   "outputs": [
    {
     "data": {
      "text/plain": [
       "(2.8949158625700564, 7.105084137429944)"
      ]
     },
     "execution_count": 7,
     "metadata": {},
     "output_type": "execute_result"
    }
   ],
   "source": [
    "# In Python, the 95%-CI for the mean can be obtained with a one-liner:\n",
    "\n",
    "data = [1,2,3,4,5,6,7,8,9]\n",
    "alpha = 0.95\n",
    "df = len(data)-1\n",
    "ci = stats.t.interval(alpha, df,loc=np.mean(data), scale=stats.sem(data))\n",
    "\n",
    "ci"
   ]
  },
  {
   "cell_type": "code",
   "execution_count": null,
   "metadata": {},
   "outputs": [],
   "source": []
  }
 ],
 "metadata": {
  "kernelspec": {
   "display_name": "Python 3.10.0 64-bit",
   "language": "python",
   "name": "python3"
  },
  "language_info": {
   "codemirror_mode": {
    "name": "ipython",
    "version": 3
   },
   "file_extension": ".py",
   "mimetype": "text/x-python",
   "name": "python",
   "nbconvert_exporter": "python",
   "pygments_lexer": "ipython3",
   "version": "3.10.0"
  },
  "orig_nbformat": 4,
  "vscode": {
   "interpreter": {
    "hash": "9b4d75ac280b6c7c3aa43866cb82dc88915409b55fec83a093dd0284cb58708e"
   }
  }
 },
 "nbformat": 4,
 "nbformat_minor": 2
}
