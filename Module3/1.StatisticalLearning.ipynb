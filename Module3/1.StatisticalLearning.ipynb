{
 "cells": [
  {
   "cell_type": "code",
   "execution_count": 19,
   "metadata": {},
   "outputs": [
    {
     "data": {
      "text/plain": [
       "'  \\nStatistical Learning\\n    - simply means numerical data\\n\\n\\nBasic terminology\\n    - Population\\n            collection of set of individuals or objects or events that has to be analyzed\\n\\n    - Sample\\n            subset of population\\n'"
      ]
     },
     "execution_count": 19,
     "metadata": {},
     "output_type": "execute_result"
    }
   ],
   "source": [
    "\"\"\"  \n",
    "Statistical Learning\n",
    "    - simply means numerical data\n",
    "\n",
    "\n",
    "Basic terminology\n",
    "    - Population\n",
    "            collection of set of individuals or objects or events that has to be analyzed\n",
    "\n",
    "    - Sample\n",
    "            subset of population\n",
    "\"\"\""
   ]
  },
  {
   "cell_type": "code",
   "execution_count": 20,
   "metadata": {},
   "outputs": [
    {
     "name": "stdout",
     "output_type": "stream",
     "text": [
      "The count of elements in the list is :  8\n",
      "The sum of list is :  16\n",
      "The average of list values is : 2\n"
     ]
    }
   ],
   "source": [
    "\"\"\" \n",
    "Mean Calculation\n",
    "    - average\n",
    "\"\"\"\n",
    "\n",
    "import statistics\n",
    "\n",
    "#initializing list\n",
    "li = [1,2,3,3,2,2,2,1]\n",
    "sum1=0\n",
    "count=0\n",
    "#using mean() to calculated avg of list elements\n",
    "for i in li:\n",
    "    count+=1\n",
    "    sum1=sum1+i\n",
    "\n",
    "print(\"The count of elements in the list is : \",count)\n",
    "print(\"The sum of list is : \",sum1)\n",
    "\n",
    "print(\"The average of list values is : \",end=\"\")\n",
    "print(statistics.mean(li))"
   ]
  },
  {
   "cell_type": "code",
   "execution_count": 21,
   "metadata": {},
   "outputs": [
    {
     "name": "stdout",
     "output_type": "stream",
     "text": [
      "The count of elements in the list is :  4\n",
      "The sum of list is :  76.1\n",
      "The median of list values is : 19.9\n"
     ]
    }
   ],
   "source": [
    "\"\"\"  \n",
    "Median Calculation\n",
    "    - middle most term\n",
    "\"\"\"\n",
    "\n",
    "import statistics\n",
    "\n",
    "#initializing list\n",
    "li = [15,19,20.8,21.3]\n",
    "sum1=0\n",
    "count=0\n",
    "\n",
    "#using median() to calculated avg of list elements\n",
    "for i in li:\n",
    "    count+=1\n",
    "    sum1=sum1+i\n",
    "\n",
    "print(\"The count of elements in the list is : \",count)\n",
    "print(\"The sum of list is : \",sum1)\n",
    "\n",
    "print(\"The median of list values is : \",end=\"\")\n",
    "print(statistics.median(li))"
   ]
  },
  {
   "cell_type": "code",
   "execution_count": 23,
   "metadata": {},
   "outputs": [
    {
     "name": "stdout",
     "output_type": "stream",
     "text": [
      "The count of elements in the list is :  4\n",
      "The sum of list is :  76.1\n",
      "The median_low of list values is : 19\n"
     ]
    }
   ],
   "source": [
    "\"\"\"  \n",
    "Median Low\n",
    "\"\"\"\n",
    "\n",
    "import statistics\n",
    "\n",
    "#initializing list\n",
    "li = [15,19,20.8,21.3]\n",
    "sum1=0\n",
    "count=0\n",
    "\n",
    "#using median() to calculated avg of list elements\n",
    "for i in li:\n",
    "    count+=1\n",
    "    sum1=sum1+i\n",
    "\n",
    "print(\"The count of elements in the list is : \",count)\n",
    "print(\"The sum of list is : \",sum1)\n",
    "\n",
    "print(\"The median_low of list values is : \",end=\"\")\n",
    "print(statistics.median_low(li))"
   ]
  },
  {
   "cell_type": "code",
   "execution_count": 25,
   "metadata": {},
   "outputs": [
    {
     "name": "stdout",
     "output_type": "stream",
     "text": [
      "The count of elements in the list is :  4\n",
      "The sum of list is :  76.1\n",
      "The median_high of list values is : 20.8\n"
     ]
    }
   ],
   "source": [
    "\"\"\"  \n",
    "Median High\n",
    "\"\"\"\n",
    "\n",
    "import statistics\n",
    "\n",
    "#initializing list\n",
    "li = [15,19,20.8,21.3]\n",
    "sum1=0\n",
    "count=0\n",
    "\n",
    "#using mean() to calculated avg of list elements\n",
    "for i in li:\n",
    "    count+=1\n",
    "    sum1=sum1+i\n",
    "\n",
    "print(\"The count of elements in the list is : \",count)\n",
    "print(\"The sum of list is : \",sum1)\n",
    "\n",
    "print(\"The median_high of list values is : \",end=\"\")\n",
    "print(statistics.median_high(li))"
   ]
  },
  {
   "cell_type": "code",
   "execution_count": 22,
   "metadata": {},
   "outputs": [
    {
     "name": "stdout",
     "output_type": "stream",
     "text": [
      "The count of elements in the list is :  11\n",
      "The sum of list is :  47\n",
      "The mode of list values is : 4\n"
     ]
    }
   ],
   "source": [
    "\"\"\"  \n",
    "Mode Calculation\n",
    "    - most repeated value\n",
    "\"\"\"\n",
    "import statistics\n",
    "\n",
    "#initializing list\n",
    "li = [3,4,2,4,6,4,7,7,4,2,4]\n",
    "sum1=0\n",
    "count=0\n",
    "\n",
    "#using median() to calculated avg of list elements\n",
    "for i in li:\n",
    "    count+=1\n",
    "    sum1=sum1+i\n",
    "\n",
    "print(\"The count of elements in the list is : \",count)\n",
    "print(\"The sum of list is : \",sum1)\n",
    "\n",
    "print(\"The mode of list values is : \",end=\"\")\n",
    "print(statistics.mode(li))"
   ]
  },
  {
   "cell_type": "code",
   "execution_count": null,
   "metadata": {},
   "outputs": [],
   "source": [
    "\"\"\" \n",
    "Measure of Variability\n",
    "    - Range\n",
    "        range = max_value - min_value\n",
    "\n",
    "    - Variance\n",
    "        square of deviation\n",
    "        variance = (sum of (xi - mean)^2  /  (n-1))\n",
    "\n",
    "    - Dispersion\n",
    "        measure of dispersion of set of data from its mean\n",
    "\"\"\""
   ]
  },
  {
   "cell_type": "code",
   "execution_count": 31,
   "metadata": {},
   "outputs": [
    {
     "name": "stdout",
     "output_type": "stream",
     "text": [
      "The variance of list values is : 1.3720238095238095\n"
     ]
    }
   ],
   "source": [
    "\"\"\"  \n",
    "Variance\n",
    "\n",
    "\"\"\"\n",
    "import statistics\n",
    "\n",
    "li = [15,19.2,20.8,21.3,10.5,15.2]\n",
    "values = [2.75, 1.75, 1.25, 0.25, 0.5, 1.25, 3.5]\n",
    "\n",
    "print(\"The variance of list values is : \",end=\"\")\n",
    "print(statistics.variance(values))"
   ]
  },
  {
   "cell_type": "code",
   "execution_count": 32,
   "metadata": {},
   "outputs": [
    {
     "name": "stdout",
     "output_type": "stream",
     "text": [
      "The p_variance of list values is : 1.1760204081632653\n"
     ]
    }
   ],
   "source": [
    "\"\"\"  \n",
    "P-Variance\n",
    "\n",
    "\"\"\"\n",
    "import statistics\n",
    "\n",
    "li = [15,19.2,20.8,21.3,10.5,15.2]\n",
    "values = [2.75, 1.75, 1.25, 0.25, 0.5, 1.25, 3.5]\n",
    "\n",
    "print(\"The p_variance of list values is : \",end=\"\")\n",
    "print(statistics.pvariance(values))"
   ]
  },
  {
   "cell_type": "code",
   "execution_count": null,
   "metadata": {},
   "outputs": [],
   "source": [
    "\"\"\"  \n",
    "Inferential Statistics\n",
    "    - makes inference and prediction about population based on sample of data taken from population\n",
    "    - associated with hypothesis testing whose main target is to reject null hypothesis\n",
    "\n",
    "\"\"\""
   ]
  },
  {
   "cell_type": "code",
   "execution_count": null,
   "metadata": {},
   "outputs": [],
   "source": []
  }
 ],
 "metadata": {
  "kernelspec": {
   "display_name": "Python 3.10.0 64-bit",
   "language": "python",
   "name": "python3"
  },
  "language_info": {
   "codemirror_mode": {
    "name": "ipython",
    "version": 3
   },
   "file_extension": ".py",
   "mimetype": "text/x-python",
   "name": "python",
   "nbconvert_exporter": "python",
   "pygments_lexer": "ipython3",
   "version": "3.10.0"
  },
  "orig_nbformat": 4,
  "vscode": {
   "interpreter": {
    "hash": "9b4d75ac280b6c7c3aa43866cb82dc88915409b55fec83a093dd0284cb58708e"
   }
  }
 },
 "nbformat": 4,
 "nbformat_minor": 2
}
