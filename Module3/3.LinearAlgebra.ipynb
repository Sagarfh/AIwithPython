{
 "cells": [
  {
   "cell_type": "code",
   "execution_count": null,
   "metadata": {},
   "outputs": [],
   "source": [
    "\"\"\"  \n",
    "Elementary Linear Algebra\n",
    "    - Scalars\n",
    "        only magnitude and no direction\n",
    "        real numbers\n",
    "\n",
    "    - Vectors\n",
    "        has both direction and magnitude\n",
    "        ex: speed\n",
    "\n",
    "    - Vector Space\n",
    "        vectors that may be added together and multiplied\n",
    "\n",
    "    - Matrix\n",
    "        rectangular sets\n",
    "\n",
    "    - Matrix Operations\n",
    "        simple operations conducted on matrices\n",
    "        \n",
    "\"\"\""
   ]
  },
  {
   "cell_type": "code",
   "execution_count": null,
   "metadata": {},
   "outputs": [],
   "source": [
    "\"\"\"  \n",
    "Advanced Linear Algebra\n",
    "    - Linear Transformations\n",
    "    - Inverse of Matrix\n",
    "    - Eigenvector\n",
    "    - Linear Map\n",
    "    \n",
    "\"\"\""
   ]
  },
  {
   "cell_type": "code",
   "execution_count": null,
   "metadata": {},
   "outputs": [],
   "source": [
    "\"\"\"  \n",
    "Vectors\n",
    "    - Types of Vectors\n",
    "    - Dot product\n",
    "    - Cross product\n",
    "    - Addition of Vectors\n",
    "\n",
    "\n",
    "Matrices\n",
    "    - Matrix Operators\n",
    "    - Determinant\n",
    "    - Transpose of a Matrix\n",
    "    - Types of Matrix\n",
    "\"\"\""
   ]
  },
  {
   "cell_type": "code",
   "execution_count": null,
   "metadata": {},
   "outputs": [],
   "source": [
    "\"\"\"  \n",
    "Linear Algebra and its Application\n",
    "    - Signal Processing\n",
    "    - Linear Programming\n",
    "    - Computer Science\n",
    "    - Prediction Algorithms\n",
    "\"\"\""
   ]
  }
 ],
 "metadata": {
  "language_info": {
   "name": "python"
  },
  "orig_nbformat": 4
 },
 "nbformat": 4,
 "nbformat_minor": 2
}
