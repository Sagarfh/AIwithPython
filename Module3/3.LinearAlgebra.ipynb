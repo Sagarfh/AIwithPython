{
 "cells": [
  {
   "cell_type": "code",
   "execution_count": null,
   "metadata": {},
   "outputs": [],
   "source": [
    "\"\"\"  \n",
    "Elementary Linear Algebra\n",
    "    - Scalars\n",
    "        only magnitude and no direction\n",
    "        real numbers\n",
    "\n",
    "    - Vectors\n",
    "        has both direction and magnitude\n",
    "        ex: speed\n",
    "\n",
    "    - Vector Space\n",
    "        vectors that may be added together and multiplied\n",
    "\n",
    "    - Matrix\n",
    "        rectangular sets\n",
    "\n",
    "    - Matrix Operations\n",
    "        simple operations conducted on matrices\n",
    "        \n",
    "\"\"\""
   ]
  },
  {
   "cell_type": "code",
   "execution_count": null,
   "metadata": {},
   "outputs": [],
   "source": [
    "\"\"\"  \n",
    "Advanced Linear Algebra\n",
    "    - Linear Transformations\n",
    "    - Inverse of Matrix\n",
    "    - Eigenvector\n",
    "    - Linear Map\n",
    "    \n",
    "\"\"\""
   ]
  },
  {
   "cell_type": "code",
   "execution_count": null,
   "metadata": {},
   "outputs": [],
   "source": [
    "\"\"\"  \n",
    "Vectors\n",
    "    - Types of Vectors\n",
    "    - Dot product\n",
    "    - Cross product\n",
    "    - Addition of Vectors\n",
    "\n",
    "\n",
    "Matrices\n",
    "    - Matrix Operators\n",
    "    - Determinant\n",
    "    - Transpose of a Matrix\n",
    "    - Types of Matrix\n",
    "\"\"\""
   ]
  },
  {
   "cell_type": "code",
   "execution_count": null,
   "metadata": {},
   "outputs": [],
   "source": [
    "\"\"\"  \n",
    "Linear Algebra and its Application\n",
    "    - Signal Processing\n",
    "    - Linear Programming\n",
    "    - Computer Science\n",
    "    - Prediction Algorithms\n",
    "\"\"\""
   ]
  },
  {
   "cell_type": "code",
   "execution_count": 3,
   "metadata": {},
   "outputs": [
    {
     "data": {
      "text/plain": [
       "<StemContainer object of 3 artists>"
      ]
     },
     "execution_count": 3,
     "metadata": {},
     "output_type": "execute_result"
    },
    {
     "data": {
      "image/png": "[encoded data removed]",
      "text/plain": [
       "<Figure size 640x480 with 1 Axes>"
      ]
     },
     "metadata": {},
     "output_type": "display_data"
    }
   ],
   "source": [
    "import numpy as np\n",
    "import scipy as sp\n",
    "import matplotlib.pyplot as plt\n",
    "\n",
    "%matplotlib inline\n",
    "\n",
    "k = np.arange(0,8)\n",
    "x = np.cos(2*k*np.pi/4)\n",
    "\n",
    "plt.stem(k, x, use_line_collection=True)"
   ]
  },
  {
   "cell_type": "code",
   "execution_count": null,
   "metadata": {},
   "outputs": [],
   "source": [
    "# increase the list and plot discrete graph"
   ]
  }
 ],
 "metadata": {
  "kernelspec": {
   "display_name": "Python 3.10.4 64-bit",
   "language": "python",
   "name": "python3"
  },
  "language_info": {
   "codemirror_mode": {
    "name": "ipython",
    "version": 3
   },
   "file_extension": ".py",
   "mimetype": "text/x-python",
   "name": "python",
   "nbconvert_exporter": "python",
   "pygments_lexer": "ipython3",
   "version": "3.10.4"
  },
  "orig_nbformat": 4,
  "vscode": {
   "interpreter": {
    "hash": "916dbcbb3f70747c44a77c7bcd40155683ae19c65e1c03b4aa3499c5328201f1"
   }
  }
 },
 "nbformat": 4,
 "nbformat_minor": 2
}
