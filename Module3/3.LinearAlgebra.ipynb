{
 "cells": [
  {
   "cell_type": "code",
   "execution_count": 1,
   "metadata": {},
   "outputs": [
    {
     "data": {
      "text/plain": [
       "'  \\nElementary Linear Algebra\\n    - Scalars\\n        only magnitude and no direction\\n        real numbers\\n\\n    - Vectors\\n        has both direction and magnitude\\n        ex: speed\\n\\n    - Vector Space\\n        vectors that may be added together and multiplied\\n\\n    - Matrix\\n        rectangular sets\\n\\n    - Matrix Operations\\n        simple operations conducted on matrices\\n        \\n'"
      ]
     },
     "execution_count": 1,
     "metadata": {},
     "output_type": "execute_result"
    }
   ],
   "source": [
    "\"\"\"  \n",
    "Elementary Linear Algebra\n",
    "    - Scalars\n",
    "        only magnitude and no direction\n",
    "        real numbers\n",
    "\n",
    "    - Vectors\n",
    "        has both direction and magnitude\n",
    "        ex: speed\n",
    "\n",
    "    - Vector Space\n",
    "        vectors that may be added together and multiplied\n",
    "\n",
    "    - Matrix\n",
    "        rectangular sets\n",
    "\n",
    "    - Matrix Operations\n",
    "        simple operations conducted on matrices\n",
    "        \n",
    "\"\"\""
   ]
  },
  {
   "cell_type": "code",
   "execution_count": 2,
   "metadata": {},
   "outputs": [
    {
     "data": {
      "text/plain": [
       "'  \\nAdvanced Linear Algebra\\n    - Linear Transformations\\n    - Inverse of Matrix\\n    - Eigenvector\\n    - Linear Map\\n    \\n'"
      ]
     },
     "execution_count": 2,
     "metadata": {},
     "output_type": "execute_result"
    }
   ],
   "source": [
    "\"\"\"  \n",
    "Advanced Linear Algebra\n",
    "    - Linear Transformations\n",
    "    - Inverse of Matrix\n",
    "    - Eigenvector\n",
    "    - Linear Map\n",
    "    \n",
    "\"\"\""
   ]
  },
  {
   "cell_type": "code",
   "execution_count": 3,
   "metadata": {},
   "outputs": [
    {
     "data": {
      "text/plain": [
       "'  \\nVectors\\n    - Types of Vectors\\n    - Dot product\\n    - Cross product\\n    - Addition of Vectors\\n\\n\\nMatrices\\n    - Matrix Operators\\n    - Determinant\\n    - Transpose of a Matrix\\n    - Types of Matrix\\n'"
      ]
     },
     "execution_count": 3,
     "metadata": {},
     "output_type": "execute_result"
    }
   ],
   "source": [
    "\"\"\"  \n",
    "Vectors\n",
    "    - Types of Vectors\n",
    "    - Dot product\n",
    "    - Cross product\n",
    "    - Addition of Vectors\n",
    "\n",
    "\n",
    "Matrices\n",
    "    - Matrix Operators\n",
    "    - Determinant\n",
    "    - Transpose of a Matrix\n",
    "    - Types of Matrix\n",
    "\"\"\""
   ]
  },
  {
   "cell_type": "code",
   "execution_count": 4,
   "metadata": {},
   "outputs": [
    {
     "data": {
      "text/plain": [
       "'  \\nLinear Algebra and its Application\\n    - Signal Processing\\n    - Linear Programming\\n    - Computer Science\\n    - Prediction Algorithms\\n'"
      ]
     },
     "execution_count": 4,
     "metadata": {},
     "output_type": "execute_result"
    }
   ],
   "source": [
    "\"\"\"  \n",
    "Linear Algebra and its Application\n",
    "    - Signal Processing\n",
    "    - Linear Programming\n",
    "    - Computer Science\n",
    "    - Prediction Algorithms\n",
    "\"\"\""
   ]
  },
  {
   "cell_type": "code",
   "execution_count": 5,
   "metadata": {},
   "outputs": [
    {
     "data": {
      "text/plain": [
       "<StemContainer object of 3 artists>"
      ]
     },
     "execution_count": 5,
     "metadata": {},
     "output_type": "execute_result"
    },
    {
     "data": {
      "image/png": "[encoded data removed]",
      "text/plain": [
       "<Figure size 432x288 with 1 Axes>"
      ]
     },
     "metadata": {
      "needs_background": "light"
     },
     "output_type": "display_data"
    }
   ],
   "source": [
    "import numpy as np\n",
    "import scipy as sp\n",
    "import matplotlib.pyplot as plt\n",
    "\n",
    "%matplotlib inline\n",
    "\n",
    "k = np.arange(0,8)\n",
    "x = np.cos(2*k*np.pi/4)\n",
    "\n",
    "plt.stem(k, x, use_line_collection=True)"
   ]
  },
  {
   "cell_type": "code",
   "execution_count": 6,
   "metadata": {},
   "outputs": [
    {
     "data": {
      "image/png": "[encoded data removed]",
      "text/plain": [
       "<Figure size 432x432 with 1 Axes>"
      ]
     },
     "metadata": {
      "needs_background": "light"
     },
     "output_type": "display_data"
    }
   ],
   "source": [
    "vec = np.array([[-3],[2]])\n",
    "origin=np.zeros(vec.shape)\n",
    "plt.figure(figsize=(6,6))\n",
    "plt.quiver(*origin, *vec, color=['b'],scale=1,units='xy')\n",
    "plt.grid()\n",
    "plt.xlim(-5,5)\n",
    "plt.ylim(-5,5)\n",
    "plt.gca().set_aspect('equal')\n",
    "plt.show()"
   ]
  },
  {
   "cell_type": "code",
   "execution_count": 7,
   "metadata": {},
   "outputs": [
    {
     "data": {
      "image/png": "[encoded data removed]",
      "text/plain": [
       "<Figure size 432x432 with 1 Axes>"
      ]
     },
     "metadata": {
      "needs_background": "light"
     },
     "output_type": "display_data"
    },
    {
     "name": "stdout",
     "output_type": "stream",
     "text": [
      "[[ 6.123234e-17  1.000000e+00]\n",
      " [-1.000000e+00  6.123234e-17]]\n"
     ]
    },
    {
     "data": {
      "image/png": "[encoded data removed]",
      "text/plain": [
       "<Figure size 432x432 with 1 Axes>"
      ]
     },
     "metadata": {
      "needs_background": "light"
     },
     "output_type": "display_data"
    }
   ],
   "source": [
    "vec = np.array([[-3],[2]])\n",
    "origin=np.zeros(vec.shape)\n",
    "plt.figure(figsize=(6,6))\n",
    "plt.quiver(*origin, *vec, color=['b'],scale=1,units='xy')\n",
    "\n",
    "plt.xlim(-5,5)\n",
    "plt.ylim(-5,5)\n",
    "plt.grid()\n",
    "plt.gca().set_aspect('equal')\n",
    "plt.show()\n",
    "\n",
    "theta = np.radians(-90)\n",
    "R = np.zeros((2,2))\n",
    "R[0,0]=np.cos(theta)\n",
    "R[0,1]=-np.sin(theta)\n",
    "R[1,0]=np.sin(theta)\n",
    "R[1,1]=np.cos(theta)\n",
    "print(R)\n",
    "\n",
    "new = np.zeros(vec.shape)\n",
    "new [0]=R[1,1]*vec[0] + R[0,1]*vec[1]\n",
    "new [0]=R[1,0]*vec[0] + R[0,0]*vec[1]\n",
    "new =R.dot(vec)\n",
    "\n",
    "origin = np.zeros(new.shape)\n",
    "\n",
    "plt.figure(figsize=(6,6))\n",
    "plt.quiver(*origin,*new, color=['r'],scale=1,units='xy')\n",
    "plt.grid()\n",
    "plt.xlim(-5,5)\n",
    "plt.ylim(-5,5)\n",
    "plt.grid()\n",
    "plt.gca().set_aspect('equal')\n",
    "plt.show()"
   ]
  },
  {
   "cell_type": "code",
   "execution_count": 12,
   "metadata": {},
   "outputs": [
    {
     "name": "stdout",
     "output_type": "stream",
     "text": [
      "sum of x-axis values\n",
      "[[0.11 0.48 0.3  0.11]]\n",
      "\n",
      "\n",
      "sum of y-axis values\n",
      "[[0.1]\n",
      " [0.4]\n",
      " [0.3]\n",
      " [0.2]]\n"
     ]
    }
   ],
   "source": [
    "import numpy as np\n",
    "from scipy.stats.contingency import margins\n",
    "\n",
    "join_probability_X_Y = np.array([\n",
    "    [0.01, 0.02, 0.04, 0.04],\n",
    "    [0.03, 0.24,0.15, 0.06],\n",
    "    [0.04, 0.10, 0.08, 0.08],\n",
    "    [0.02, 0.04, 0.03, 0.02]\n",
    "])\n",
    "\n",
    "x, y = margins(join_probability_X_Y)\n",
    "\n",
    "print(\"sum of x-axis values\")\n",
    "print(x.T)\n",
    "print(\"\\n\")\n",
    "\n",
    "print(\"sum of y-axis values\")\n",
    "print(y.T)"
   ]
  },
  {
   "cell_type": "code",
   "execution_count": null,
   "metadata": {},
   "outputs": [],
   "source": []
  }
 ],
 "metadata": {
  "kernelspec": {
   "display_name": "Python 3.10.4 64-bit",
   "language": "python",
   "name": "python3"
  },
  "language_info": {
   "codemirror_mode": {
    "name": "ipython",
    "version": 3
   },
   "file_extension": ".py",
   "mimetype": "text/x-python",
   "name": "python",
   "nbconvert_exporter": "python",
   "pygments_lexer": "ipython3",
   "version": "3.10.4"
  },
  "orig_nbformat": 4,
  "vscode": {
   "interpreter": {
    "hash": "916dbcbb3f70747c44a77c7bcd40155683ae19c65e1c03b4aa3499c5328201f1"
   }
  }
 },
 "nbformat": 4,
 "nbformat_minor": 2
}
