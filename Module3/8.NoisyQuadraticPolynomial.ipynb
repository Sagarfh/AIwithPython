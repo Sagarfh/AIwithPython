{
 "cells": [
  {
   "cell_type": "code",
   "execution_count": 7,
   "metadata": {},
   "outputs": [
    {
     "name": "stdout",
     "output_type": "stream",
     "text": [
      "The coefficients from the linear fit: [101.62    5.973]\n"
     ]
    },
    {
     "name": "stderr",
     "output_type": "stream",
     "text": [
      "C:\\Users\\SAGAR\\AppData\\Local\\Temp\\ipykernel_11216\\298740943.py:20: FutureWarning: `rcond` parameter will change to the default of machine precision times ``max(M, N)`` where M and N are the input matrix dimensions.\n",
      "To use the future default and silence this warning we advise to pass `rcond=None`, to keep using the old, explicitly pass `rcond=-1`.\n",
      "  p1 = np.linalg.lstsq(M1, y)\n",
      "C:\\Users\\SAGAR\\AppData\\Local\\Temp\\ipykernel_11216\\298740943.py:21: FutureWarning: `rcond` parameter will change to the default of machine precision times ``max(M, N)`` where M and N are the input matrix dimensions.\n",
      "To use the future default and silence this warning we advise to pass `rcond=None`, to keep using the old, explicitly pass `rcond=-1`.\n",
      "  p2 = np.linalg.lstsq(M2, y)\n",
      "C:\\Users\\SAGAR\\AppData\\Local\\Temp\\ipykernel_11216\\298740943.py:22: FutureWarning: `rcond` parameter will change to the default of machine precision times ``max(M, N)`` where M and N are the input matrix dimensions.\n",
      "To use the future default and silence this warning we advise to pass `rcond=None`, to keep using the old, explicitly pass `rcond=-1`.\n",
      "  p3 = np.linalg.lstsq(M3, y)\n"
     ]
    }
   ],
   "source": [
    "import numpy as np\n",
    "\n",
    "import matplotlib.pyplot as plt\n",
    "\n",
    "#Generate a noisy, slightly quadratic dataset\n",
    "\n",
    "x = np.arange(100)\n",
    "y = 150 + 3*x + 0.03*x**2 + 5*np.random.randn(len(x))\n",
    "\n",
    "# Create the Design Matrices for the linear, quadratic, and cubic fit\n",
    "\n",
    "M1 = np.vstack( (np.ones_like(x), x) ).T\n",
    "M2 = np.vstack( (np.ones_like(x), x, x**2) ).T\n",
    "M3 = np.vstack( (np.ones_like(x), x, x**2, x**3) ).T\n",
    "\n",
    "# an equivalent alternative solution with statsmodels would be \n",
    "# M1 = sm.add_constant(x)\n",
    "\n",
    "# Solve the equations\n",
    "p1 = np.linalg.lstsq(M1, y)\n",
    "p2 = np.linalg.lstsq(M2, y)\n",
    "p3 = np.linalg.lstsq(M3, y)\n",
    "\n",
    "np.set_printoptions(precision=3)\n",
    "print('The coefficients from the linear fit: {0}'.format(p1[0]))"
   ]
  },
  {
   "cell_type": "code",
   "execution_count": 8,
   "metadata": {},
   "outputs": [
    {
     "name": "stdout",
     "output_type": "stream",
     "text": [
      "The coefficients from the quadratic fit: [1.498e+02 3.023e+00 2.980e-02]\n"
     ]
    }
   ],
   "source": [
    "\n",
    "print('The coefficients from the quadratic fit: {0}'.format(p2[0]))\n"
   ]
  },
  {
   "cell_type": "code",
   "execution_count": 9,
   "metadata": {},
   "outputs": [
    {
     "name": "stdout",
     "output_type": "stream",
     "text": [
      "The coefficients from the cubic fit: [ 1.502e+02  2.976e+00  3.098e-02 -7.948e-06]\n"
     ]
    }
   ],
   "source": [
    "print('The coefficients from the cubic fit: {0}'.format(p3[0]))"
   ]
  },
  {
   "cell_type": "code",
   "execution_count": 10,
   "metadata": {},
   "outputs": [
    {
     "name": "stdout",
     "output_type": "stream",
     "text": [
      "                 Results: Ordinary least squares\n",
      "=================================================================\n",
      "Model:              OLS              Adj. R-squared:     0.983   \n",
      "Dependent Variable: y                AIC:                911.9236\n",
      "Date:               2022-09-15 10:05 BIC:                917.1340\n",
      "No. Observations:   100              Log-Likelihood:     -453.96 \n",
      "Df Model:           1                F-statistic:        5673.   \n",
      "Df Residuals:       98               Prob (F-statistic): 1.51e-88\n",
      "R-squared:          0.983            Scale:              524.04  \n",
      "-------------------------------------------------------------------\n",
      "         Coef.     Std.Err.      t      P>|t|     [0.025    0.975] \n",
      "-------------------------------------------------------------------\n",
      "const   101.6202     4.5442   22.3624   0.0000   92.6023   110.6381\n",
      "x1        5.9731     0.0793   75.3193   0.0000    5.8157     6.1305\n",
      "-----------------------------------------------------------------\n",
      "Omnibus:               12.824       Durbin-Watson:          0.091\n",
      "Prob(Omnibus):         0.002        Jarque-Bera (JB):       8.072\n",
      "Skew:                  0.545        Prob(JB):               0.018\n",
      "Kurtosis:              2.135        Condition No.:          114  \n",
      "=================================================================\n",
      "\n"
     ]
    }
   ],
   "source": [
    "'''Solution with the tools from statsmodels'''\n",
    "import statsmodels.api as sm\n",
    "\n",
    "Res1 = sm.OLS(y, M1).fit()\n",
    "Res2 = sm.OLS(y, M2).fit()\n",
    "Res3 = sm.OLS(y, M3).fit()\n",
    "\n",
    "print(Res1.summary2())"
   ]
  },
  {
   "cell_type": "code",
   "execution_count": 16,
   "metadata": {},
   "outputs": [
    {
     "name": "stdout",
     "output_type": "stream",
     "text": [
      "The AIC-value is 911.9 for the linear fit,\n",
      " 591.7 for the quadratic fit, and \n",
      " 593.6 for the cubic fit\n"
     ]
    }
   ],
   "source": [
    "print('The AIC-value is {0:4.1f} for the linear fit,\\n {1:4.1f} for the quadratic fit, and \\n {2:4.1f} for the cubic fit'.format(Res1.aic, Res2.aic,\n",
    "Res3.aic))"
   ]
  },
  {
   "cell_type": "code",
   "execution_count": 18,
   "metadata": {},
   "outputs": [
    {
     "data": {
      "text/plain": [
       "Intercept    149.805636\n",
       "x              3.022968\n",
       "I(x ** 2)      0.029799\n",
       "dtype: float64"
      ]
     },
     "execution_count": 18,
     "metadata": {},
     "output_type": "execute_result"
    }
   ],
   "source": [
    "'''Formula-based modeling '''\n",
    "import pandas as pd\n",
    "import statsmodels.formula.api as smf\n",
    "\n",
    "# Turn the data into a pandas DataFrame, so that we\n",
    "# can address them in the formulas with their name\n",
    "df = pd.DataFrame({'x':x, 'y':y})\n",
    "\n",
    "# Fit the models, and show the results\n",
    "Res1F = smf.ols('y~x', df).fit()\n",
    "Res2F = smf.ols('y ~ x+I(x**2)', df).fit()\n",
    "Res3F = smf.ols('y ~ x+I(x**2)+I(x**3)', df).fit()\n",
    "\n",
    "#As example, display parameters for the quadratic fit\n",
    "Res2F.params"
   ]
  },
  {
   "cell_type": "code",
   "execution_count": 19,
   "metadata": {},
   "outputs": [
    {
     "data": {
      "text/plain": [
       "Intercept    1.351084\n",
       "x            0.063074\n",
       "I(x ** 2)    0.000617\n",
       "dtype: float64"
      ]
     },
     "execution_count": 19,
     "metadata": {},
     "output_type": "execute_result"
    }
   ],
   "source": [
    "Res2F.bse"
   ]
  },
  {
   "cell_type": "code",
   "execution_count": 20,
   "metadata": {},
   "outputs": [
    {
     "data": {
      "text/html": [
       "<div>\n",
       "<style scoped>\n",
       "    .dataframe tbody tr th:only-of-type {\n",
       "        vertical-align: middle;\n",
       "    }\n",
       "\n",
       "    .dataframe tbody tr th {\n",
       "        vertical-align: top;\n",
       "    }\n",
       "\n",
       "    .dataframe thead th {\n",
       "        text-align: right;\n",
       "    }\n",
       "</style>\n",
       "<table border=\"1\" class=\"dataframe\">\n",
       "  <thead>\n",
       "    <tr style=\"text-align: right;\">\n",
       "      <th></th>\n",
       "      <th>0</th>\n",
       "      <th>1</th>\n",
       "    </tr>\n",
       "  </thead>\n",
       "  <tbody>\n",
       "    <tr>\n",
       "      <th>Intercept</th>\n",
       "      <td>147.124108</td>\n",
       "      <td>152.487163</td>\n",
       "    </tr>\n",
       "    <tr>\n",
       "      <th>x</th>\n",
       "      <td>2.897783</td>\n",
       "      <td>3.148154</td>\n",
       "    </tr>\n",
       "    <tr>\n",
       "      <th>I(x ** 2)</th>\n",
       "      <td>0.028576</td>\n",
       "      <td>0.031023</td>\n",
       "    </tr>\n",
       "  </tbody>\n",
       "</table>\n",
       "</div>"
      ],
      "text/plain": [
       "                    0           1\n",
       "Intercept  147.124108  152.487163\n",
       "x            2.897783    3.148154\n",
       "I(x ** 2)    0.028576    0.031023"
      ]
     },
     "execution_count": 20,
     "metadata": {},
     "output_type": "execute_result"
    }
   ],
   "source": [
    "Res2F.conf_int()"
   ]
  },
  {
   "cell_type": "code",
   "execution_count": null,
   "metadata": {},
   "outputs": [],
   "source": []
  },
  {
   "cell_type": "markdown",
   "metadata": {},
   "source": [
    "Example: Tobacco and Alcohol in the UK"
   ]
  },
  {
   "cell_type": "code",
   "execution_count": 21,
   "metadata": {},
   "outputs": [
    {
     "data": {
      "image/png": "[encoded data removed]",
      "text/plain": [
       "<Figure size 432x288 with 1 Axes>"
      ]
     },
     "metadata": {
      "needs_background": "light"
     },
     "output_type": "display_data"
    }
   ],
   "source": [
    "import numpy as np\n",
    "import pandas as pd\n",
    "import matplotlib as mpl\n",
    "import matplotlib.pyplot as plt\n",
    "import statsmodels.formula.api as sm\n",
    "from sklearn.linear_model import LinearRegression\n",
    "from scipy import stats\n",
    "\n",
    "data_str = '''Region Alcohol Tobacco\n",
    "North 6.47 4.03\n",
    "Yorkshire 6.13 3.76\n",
    "Northeast 6.19 3.77\n",
    "East_Midlands 4.89 3.34\n",
    "West_Midlands 5.63 3.47\n",
    "East_Anglia 4.52 2.92\n",
    "Southeast 5.89 3.20\n",
    "Southwest 4.79 2.71\n",
    "Wales 5.27 3.53\n",
    "Scotland 6.08 4.51\n",
    "Northern_Ireland 4.02 4.56'''\n",
    "\n",
    "# Read in the data. Note that for Python 2.x,\n",
    "# you have to change the \"import\" statement\n",
    "\n",
    "from io import StringIO\n",
    "df = pd.read_csv(StringIO(data_str), sep=r'\\s+')\n",
    "\n",
    "# Plot the data\n",
    "df.plot('Tobacco', 'Alcohol', style='o')\n",
    "plt.ylabel('Alcohol')\n",
    "plt.title('Sales in Several UK Regions')\n",
    "plt.show()"
   ]
  },
  {
   "cell_type": "code",
   "execution_count": 22,
   "metadata": {},
   "outputs": [
    {
     "name": "stdout",
     "output_type": "stream",
     "text": [
      "                            OLS Regression Results                            \n",
      "==============================================================================\n",
      "Dep. Variable:                Alcohol   R-squared:                       0.615\n",
      "Model:                            OLS   Adj. R-squared:                  0.567\n",
      "Method:                 Least Squares   F-statistic:                     12.78\n",
      "Date:                Thu, 15 Sep 2022   Prob (F-statistic):            0.00723\n",
      "Time:                        10:12:25   Log-Likelihood:                -4.9998\n",
      "No. Observations:                  10   AIC:                             14.00\n",
      "Df Residuals:                       8   BIC:                             14.60\n",
      "Df Model:                           1                                         \n",
      "Covariance Type:            nonrobust                                         \n",
      "==============================================================================\n",
      "                 coef    std err          t      P>|t|      [0.025      0.975]\n",
      "------------------------------------------------------------------------------\n",
      "Intercept      2.0412      1.001      2.038      0.076      -0.268       4.350\n",
      "Tobacco        1.0059      0.281      3.576      0.007       0.357       1.655\n",
      "==============================================================================\n",
      "Omnibus:                        2.542   Durbin-Watson:                   1.975\n",
      "Prob(Omnibus):                  0.281   Jarque-Bera (JB):                0.904\n",
      "Skew:                          -0.014   Prob(JB):                        0.636\n",
      "Kurtosis:                       1.527   Cond. No.                         27.2\n",
      "==============================================================================\n",
      "\n",
      "Notes:\n",
      "[1] Standard Errors assume that the covariance matrix of the errors is correctly specified.\n"
     ]
    },
    {
     "name": "stderr",
     "output_type": "stream",
     "text": [
      "C:\\Users\\SAGAR\\AppData\\Roaming\\Python\\Python310\\site-packages\\scipy\\stats\\_stats_py.py:1477: UserWarning: kurtosistest only valid for n>=20 ... continuing anyway, n=10\n",
      "  warnings.warn(\"kurtosistest only valid for n>=20 ... continuing \"\n"
     ]
    }
   ],
   "source": [
    "result = sm.ols('Alcohol ~ Tobacco', df[:-1]).fit()\n",
    "print(result.summary())"
   ]
  },
  {
   "cell_type": "code",
   "execution_count": 23,
   "metadata": {},
   "outputs": [
    {
     "name": "stdout",
     "output_type": "stream",
     "text": [
      "ln(L) = -4.999758697385978\n"
     ]
    }
   ],
   "source": [
    "N = result.nobs\n",
    "SSR = result.ssr\n",
    "s2 = SSR / N\n",
    "L = (1.0/np.sqrt(2*np.pi*s2)) ** N*np.exp(-SSR/(s2*2.0))\n",
    "print('ln(L) =', np.log( L ))"
   ]
  },
  {
   "cell_type": "code",
   "execution_count": 24,
   "metadata": {},
   "outputs": [
    {
     "data": {
      "text/plain": [
       "Intercept    2.041223\n",
       "Tobacco      1.005896\n",
       "dtype: float64"
      ]
     },
     "execution_count": 24,
     "metadata": {},
     "output_type": "execute_result"
    }
   ],
   "source": [
    "result.params"
   ]
  },
  {
   "cell_type": "code",
   "execution_count": 25,
   "metadata": {},
   "outputs": [
    {
     "name": "stdout",
     "output_type": "stream",
     "text": [
      "[[1.001   nan]\n",
      " [  nan 0.281]]\n"
     ]
    },
    {
     "name": "stderr",
     "output_type": "stream",
     "text": [
      "C:\\Users\\SAGAR\\AppData\\Local\\Temp\\ipykernel_11216\\3558088937.py:21: RuntimeWarning: invalid value encountered in sqrt\n",
      "  SE = np.sqrt(C)\n"
     ]
    }
   ],
   "source": [
    "df['Ones'] = np.ones( len(df) )\n",
    "Y = df.Alcohol[:-1]\n",
    "X = df[['Tobacco','Ones']][:-1]\n",
    "\n",
    "X = df.Tobacco[:-1]\n",
    "\n",
    "# add a column of ones for the constant intercept term\n",
    "X = np.vstack(( np.ones(X.size), X ))\n",
    "\n",
    "# convert the numpy array to a matrix\n",
    "X = np.matrix( X )\n",
    "\n",
    "# perform the matrix multiplication,\n",
    "# and then take the inverse\n",
    "C = np.linalg.inv( X * X.T )\n",
    "\n",
    "# multiply by the mean squared error of the residual\n",
    "C *= result.mse_resid\n",
    "\n",
    "# take the square root\n",
    "SE = np.sqrt(C)\n",
    "\n",
    "print(SE)"
   ]
  },
  {
   "cell_type": "code",
   "execution_count": 26,
   "metadata": {},
   "outputs": [
    {
     "name": "stdout",
     "output_type": "stream",
     "text": [
      "t = 3.575608454239008\n"
     ]
    }
   ],
   "source": [
    "i = 1\n",
    "beta = result.params[i]\n",
    "se = SE[i,i]\n",
    "t = beta / se\n",
    "print('t =', t)"
   ]
  },
  {
   "cell_type": "code",
   "execution_count": 27,
   "metadata": {},
   "outputs": [
    {
     "name": "stdout",
     "output_type": "stream",
     "text": [
      "p = 0.007\n"
     ]
    }
   ],
   "source": [
    "N = result.nobs\n",
    "k = result.df_model + 1\n",
    "dof = N - k\n",
    "p_onesided = 1.0 - stats.t( dof ).cdf( t )\n",
    "p = p_onesided * 2.0\n",
    "print('p = {0:.3f}'.format(p))"
   ]
  },
  {
   "cell_type": "code",
   "execution_count": 28,
   "metadata": {},
   "outputs": [
    {
     "name": "stdout",
     "output_type": "stream",
     "text": [
      "-0.26791770937100345 4.350363883047427\n"
     ]
    }
   ],
   "source": [
    "i = 0\n",
    "\n",
    "# the estimated coefficient, and its variance\n",
    "beta, c = result.params[i], SE[i,i]\n",
    "\n",
    "# critical value of the t-statistic\n",
    "N = result.nobs\n",
    "P = result.df_model\n",
    "dof = N - P - 1\n",
    "z = stats.t( dof ).ppf(0.975)\n",
    "\n",
    "# the confidence interval\n",
    "print(beta - z * c, beta + z * c)"
   ]
  },
  {
   "cell_type": "code",
   "execution_count": 29,
   "metadata": {},
   "outputs": [
    {
     "name": "stdout",
     "output_type": "stream",
     "text": [
      "Skewness: -0.014, Kurtosis: 1.527\n"
     ]
    }
   ],
   "source": [
    "d = Y - result.fittedvalues\n",
    "\n",
    "S = np.mean( d**3.0 ) / np.mean( d**2.0 )**(3.0/2.0)\n",
    "\n",
    "# equivalent to:\n",
    "# S = stats.skew(result.resid, bias=True)\n",
    "\n",
    "K = np.mean( d**4.0 ) / np.mean( d**2.0 )**(4.0/2.0)\n",
    "\n",
    "# equivalent to:\n",
    "# K = stats.kurtosis(result.resid,fisher=False,bias=True)\n",
    "print('Skewness: {:.3f}, Kurtosis: {:.3f}'.format(S,K))"
   ]
  },
  {
   "cell_type": "code",
   "execution_count": 30,
   "metadata": {},
   "outputs": [
    {
     "name": "stdout",
     "output_type": "stream",
     "text": [
      "Omnibus: 2.542, p = 0.281\n"
     ]
    },
    {
     "name": "stderr",
     "output_type": "stream",
     "text": [
      "C:\\Users\\SAGAR\\AppData\\Roaming\\Python\\Python310\\site-packages\\scipy\\stats\\_stats_py.py:1477: UserWarning: kurtosistest only valid for n>=20 ... continuing anyway, n=10\n",
      "  warnings.warn(\"kurtosistest only valid for n>=20 ... continuing \"\n"
     ]
    }
   ],
   "source": [
    "(K2, p) = stats.normaltest(result.resid)\n",
    "print('Omnibus: {0:.3f}, p = {1:.3f}'.format(K2, p))"
   ]
  },
  {
   "cell_type": "code",
   "execution_count": 33,
   "metadata": {},
   "outputs": [
    {
     "name": "stdout",
     "output_type": "stream",
     "text": [
      "Durbin-Watson: 3.14371\n"
     ]
    }
   ],
   "source": [
    "DW = np.sum( np.diff( result.resid.values )**2.0 )\n",
    "print('Durbin-Watson: {:.5f}'.format( DW ))"
   ]
  },
  {
   "cell_type": "code",
   "execution_count": 34,
   "metadata": {},
   "outputs": [
    {
     "name": "stdout",
     "output_type": "stream",
     "text": [
      "JB-statistic: 0.90421, p-value: 0.63629\n"
     ]
    }
   ],
   "source": [
    "JB = (N/6.0) * ( S**2.0 + (1.0/4.0)*( K - 3.0 )**2.0 )\n",
    "p = 1.0 - stats.chi2(2).cdf(JB)\n",
    "print('JB-statistic: {:.5f}, p-value: {:.5f}'.format( JB, p ))"
   ]
  },
  {
   "cell_type": "code",
   "execution_count": 35,
   "metadata": {},
   "outputs": [
    {
     "name": "stdout",
     "output_type": "stream",
     "text": [
      "(array([  0.184, 136.515]), matrix([[-0.963, -0.268],\n",
      "        [ 0.268, -0.963]]))\n"
     ]
    }
   ],
   "source": [
    "X = np.matrix( X )\n",
    "EV = np.linalg.eig( X * X.T )\n",
    "print(EV)"
   ]
  },
  {
   "cell_type": "code",
   "execution_count": 36,
   "metadata": {},
   "outputs": [
    {
     "name": "stdout",
     "output_type": "stream",
     "text": [
      "Condition No.: 27.22887\n"
     ]
    }
   ],
   "source": [
    "CN = np.sqrt( EV[0].max() / EV[0].min() )\n",
    "print('Condition No.: {:.5f}'.format( CN ))"
   ]
  },
  {
   "cell_type": "code",
   "execution_count": 37,
   "metadata": {},
   "outputs": [
    {
     "ename": "AttributeError",
     "evalue": "module 'statsmodels.formula.api' has no attribute 'OLS'",
     "output_type": "error",
     "traceback": [
      "\u001b[1;31m---------------------------------------------------------------------------\u001b[0m",
      "\u001b[1;31mAttributeError\u001b[0m                            Traceback (most recent call last)",
      "\u001b[1;32mc:\\Users\\SAGAR\\OneDrive\\Desktop\\AI with Python\\AIwithPython\\Module3\\8.NoisyQuadraticPolynomial.ipynb Cell 25\u001b[0m in \u001b[0;36m<cell line: 3>\u001b[1;34m()\u001b[0m\n\u001b[0;32m      <a href='vscode-notebook-cell:/c%3A/Users/SAGAR/OneDrive/Desktop/AI%20with%20Python/AIwithPython/Module3/8.NoisyQuadraticPolynomial.ipynb#X33sZmlsZQ%3D%3D?line=0'>1</a>\u001b[0m X \u001b[39m=\u001b[39m df[[\u001b[39m'\u001b[39m\u001b[39mTobacco\u001b[39m\u001b[39m'\u001b[39m,\u001b[39m'\u001b[39m\u001b[39mOnes\u001b[39m\u001b[39m'\u001b[39m]]\n\u001b[0;32m      <a href='vscode-notebook-cell:/c%3A/Users/SAGAR/OneDrive/Desktop/AI%20with%20Python/AIwithPython/Module3/8.NoisyQuadraticPolynomial.ipynb#X33sZmlsZQ%3D%3D?line=1'>2</a>\u001b[0m Y \u001b[39m=\u001b[39m df\u001b[39m.\u001b[39mAlcohol\n\u001b[1;32m----> <a href='vscode-notebook-cell:/c%3A/Users/SAGAR/OneDrive/Desktop/AI%20with%20Python/AIwithPython/Module3/8.NoisyQuadraticPolynomial.ipynb#X33sZmlsZQ%3D%3D?line=2'>3</a>\u001b[0m result \u001b[39m=\u001b[39m sm\u001b[39m.\u001b[39;49mOLS( Y, X )\u001b[39m.\u001b[39mfit()\n\u001b[0;32m      <a href='vscode-notebook-cell:/c%3A/Users/SAGAR/OneDrive/Desktop/AI%20with%20Python/AIwithPython/Module3/8.NoisyQuadraticPolynomial.ipynb#X33sZmlsZQ%3D%3D?line=3'>4</a>\u001b[0m result\u001b[39m.\u001b[39msummary()\n",
      "\u001b[1;31mAttributeError\u001b[0m: module 'statsmodels.formula.api' has no attribute 'OLS'"
     ]
    }
   ],
   "source": [
    "X = df[['Tobacco','Ones']]\n",
    "Y = df.Alcohol\n",
    "result = sm.OLS( Y, X ).fit()\n",
    "result.summary()"
   ]
  },
  {
   "cell_type": "code",
   "execution_count": null,
   "metadata": {},
   "outputs": [],
   "source": []
  }
 ],
 "metadata": {
  "kernelspec": {
   "display_name": "Python 3.10.0 64-bit",
   "language": "python",
   "name": "python3"
  },
  "language_info": {
   "codemirror_mode": {
    "name": "ipython",
    "version": 3
   },
   "file_extension": ".py",
   "mimetype": "text/x-python",
   "name": "python",
   "nbconvert_exporter": "python",
   "pygments_lexer": "ipython3",
   "version": "3.10.0"
  },
  "orig_nbformat": 4,
  "vscode": {
   "interpreter": {
    "hash": "9b4d75ac280b6c7c3aa43866cb82dc88915409b55fec83a093dd0284cb58708e"
   }
  }
 },
 "nbformat": 4,
 "nbformat_minor": 2
}
