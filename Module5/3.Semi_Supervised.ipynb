{
  "cells": [
    {
      "cell_type": "code",
      "execution_count": 1,
      "metadata": {
        "collapsed": false
      },
      "outputs": [],
      "source": [
        "%matplotlib inline"
      ]
    },
    {
      "cell_type": "markdown",
      "metadata": {},
      "source": [
        "\n",
        "# Label Propagation digits: Demonstrating performance\n",
        "\n",
        "This example demonstrates the power of semisupervised learning by\n",
        "training a Label Spreading model to classify handwritten digits\n",
        "with sets of very few labels.\n",
        "\n",
        "The handwritten digit dataset has 1797 total points. The model will\n",
        "be trained using all points, but only 30 will be labeled. Results\n",
        "in the form of a confusion matrix and a series of metrics over each\n",
        "class will be very good.\n",
        "\n",
        "At the end, the top 10 most uncertain predictions will be shown.\n"
      ]
    },
    {
      "cell_type": "markdown",
      "metadata": {},
      "source": [
        "## Data generation\n",
        "\n",
        "We use the digits dataset. We only use a subset of randomly selected samples.\n",
        "\n"
      ]
    },
    {
      "cell_type": "code",
      "execution_count": 3,
      "metadata": {
        "collapsed": false
      },
      "outputs": [],
      "source": [
        "from sklearn import datasets\n",
        "import numpy as np\n",
        "\n",
        "digits = datasets.load_digits()\n",
        "rng = np.random.RandomState(2)\n",
        "indices = np.arange(len(digits.data))\n",
        "rng.shuffle(indices)"
      ]
    },
    {
      "cell_type": "markdown",
      "metadata": {},
      "source": [
        "We selected 340 samples of which only 40 will be associated with a known label.\n",
        "Therefore, we store the indices of the 300 other samples for which we are not\n",
        "supposed to know their labels.\n",
        "\n"
      ]
    },
    {
      "cell_type": "code",
      "execution_count": 4,
      "metadata": {
        "collapsed": false
      },
      "outputs": [],
      "source": [
        "X = digits.data[indices[:340]]\n",
        "y = digits.target[indices[:340]]\n",
        "images = digits.images[indices[:340]]\n",
        "\n",
        "n_total_samples = len(y)\n",
        "n_labeled_points = 40\n",
        "\n",
        "indices = np.arange(n_total_samples)\n",
        "\n",
        "unlabeled_set = indices[n_labeled_points:]"
      ]
    },
    {
      "cell_type": "markdown",
      "metadata": {},
      "source": [
        "Shuffle everything around\n",
        "\n"
      ]
    },
    {
      "cell_type": "code",
      "execution_count": 5,
      "metadata": {
        "collapsed": false
      },
      "outputs": [],
      "source": [
        "y_train = np.copy(y)\n",
        "y_train[unlabeled_set] = -1"
      ]
    },
    {
      "cell_type": "markdown",
      "metadata": {},
      "source": [
        "## Semi-supervised learning\n",
        "\n",
        "We fit a :class:`~sklearn.semi_supervised.LabelSpreading` and use it to predict\n",
        "the unknown labels.\n",
        "\n"
      ]
    },
    {
      "cell_type": "code",
      "execution_count": 6,
      "metadata": {
        "collapsed": false
      },
      "outputs": [
        {
          "name": "stdout",
          "output_type": "stream",
          "text": [
            "Label Spreading model: 40 labeled & 300 unlabeled points (340 total)\n"
          ]
        }
      ],
      "source": [
        "from sklearn.semi_supervised import LabelSpreading\n",
        "from sklearn.metrics import classification_report\n",
        "\n",
        "lp_model = LabelSpreading(gamma=0.25, max_iter=20)\n",
        "lp_model.fit(X, y_train)\n",
        "predicted_labels = lp_model.transduction_[unlabeled_set]\n",
        "true_labels = y[unlabeled_set]\n",
        "\n",
        "print(\n",
        "    \"Label Spreading model: %d labeled & %d unlabeled points (%d total)\"\n",
        "    % (n_labeled_points, n_total_samples - n_labeled_points, n_total_samples)\n",
        ")"
      ]
    },
    {
      "cell_type": "markdown",
      "metadata": {},
      "source": [
        "Classification report\n",
        "\n"
      ]
    },
    {
      "cell_type": "code",
      "execution_count": 7,
      "metadata": {
        "collapsed": false
      },
      "outputs": [
        {
          "name": "stdout",
          "output_type": "stream",
          "text": [
            "              precision    recall  f1-score   support\n",
            "\n",
            "           0       1.00      1.00      1.00        27\n",
            "           1       0.82      1.00      0.90        37\n",
            "           2       1.00      0.86      0.92        28\n",
            "           3       1.00      0.80      0.89        35\n",
            "           4       0.92      1.00      0.96        24\n",
            "           5       0.74      0.94      0.83        34\n",
            "           6       0.89      0.96      0.92        25\n",
            "           7       0.94      0.89      0.91        35\n",
            "           8       1.00      0.68      0.81        31\n",
            "           9       0.81      0.88      0.84        24\n",
            "\n",
            "    accuracy                           0.90       300\n",
            "   macro avg       0.91      0.90      0.90       300\n",
            "weighted avg       0.91      0.90      0.90       300\n",
            "\n"
          ]
        }
      ],
      "source": [
        "print(classification_report(true_labels, predicted_labels))"
      ]
    },
    {
      "cell_type": "markdown",
      "metadata": {},
      "source": [
        "Confusion matrix\n",
        "\n"
      ]
    },
    {
      "cell_type": "code",
      "execution_count": 8,
      "metadata": {
        "collapsed": false
      },
      "outputs": [
        {
          "data": {
            "text/plain": [
              "<sklearn.metrics._plot.confusion_matrix.ConfusionMatrixDisplay at 0x1a953077760>"
            ]
          },
          "execution_count": 8,
          "metadata": {},
          "output_type": "execute_result"
        },
        {
          "data": {
            "image/png": "[encoded data removed]",
            "text/plain": [
              "<Figure size 432x288 with 2 Axes>"
            ]
          },
          "metadata": {
            "needs_background": "light"
          },
          "output_type": "display_data"
        }
      ],
      "source": [
        "from sklearn.metrics import ConfusionMatrixDisplay\n",
        "\n",
        "ConfusionMatrixDisplay.from_predictions(\n",
        "    true_labels, predicted_labels, labels=lp_model.classes_\n",
        ")"
      ]
    },
    {
      "cell_type": "markdown",
      "metadata": {},
      "source": [
        "## Plot the most uncertain predictions\n",
        "\n",
        "Here, we will pick and show the 10 most uncertain predictions.\n",
        "\n"
      ]
    },
    {
      "cell_type": "code",
      "execution_count": 9,
      "metadata": {
        "collapsed": false
      },
      "outputs": [],
      "source": [
        "from scipy import stats\n",
        "\n",
        "pred_entropies = stats.distributions.entropy(lp_model.label_distributions_.T)"
      ]
    },
    {
      "cell_type": "markdown",
      "metadata": {},
      "source": [
        "Pick the top 10 most uncertain labels\n",
        "\n"
      ]
    },
    {
      "cell_type": "code",
      "execution_count": 10,
      "metadata": {
        "collapsed": false
      },
      "outputs": [],
      "source": [
        "uncertainty_index = np.argsort(pred_entropies)[-10:]"
      ]
    },
    {
      "cell_type": "markdown",
      "metadata": {},
      "source": [
        "Plot\n",
        "\n"
      ]
    },
    {
      "cell_type": "code",
      "execution_count": 11,
      "metadata": {
        "collapsed": false
      },
      "outputs": [
        {
          "data": {
            "image/png": "[encoded data removed]",
            "text/plain": [
              "<Figure size 504x360 with 10 Axes>"
            ]
          },
          "metadata": {},
          "output_type": "display_data"
        }
      ],
      "source": [
        "import matplotlib.pyplot as plt\n",
        "\n",
        "f = plt.figure(figsize=(7, 5))\n",
        "for index, image_index in enumerate(uncertainty_index):\n",
        "    image = images[image_index]\n",
        "\n",
        "    sub = f.add_subplot(2, 5, index + 1)\n",
        "    sub.imshow(image, cmap=plt.cm.gray_r)\n",
        "    plt.xticks([])\n",
        "    plt.yticks([])\n",
        "    sub.set_title(\n",
        "        \"predict: %i\\ntrue: %i\" % (lp_model.transduction_[image_index], y[image_index])\n",
        "    )\n",
        "\n",
        "f.suptitle(\"Learning with small amount of labeled data\")\n",
        "plt.show()"
      ]
    }
  ],
  "metadata": {
    "kernelspec": {
      "display_name": "Python 3.10.0 64-bit",
      "language": "python",
      "name": "python3"
    },
    "language_info": {
      "codemirror_mode": {
        "name": "ipython",
        "version": 3
      },
      "file_extension": ".py",
      "mimetype": "text/x-python",
      "name": "python",
      "nbconvert_exporter": "python",
      "pygments_lexer": "ipython3",
      "version": "3.10.0"
    },
    "vscode": {
      "interpreter": {
        "hash": "9b4d75ac280b6c7c3aa43866cb82dc88915409b55fec83a093dd0284cb58708e"
      }
    }
  },
  "nbformat": 4,
  "nbformat_minor": 0
}
