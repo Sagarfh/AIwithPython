{
 "cells": [
  {
   "cell_type": "code",
   "execution_count": 12,
   "metadata": {},
   "outputs": [
    {
     "ename": "AttributeError",
     "evalue": "'dict' object has no attribute 'train'",
     "output_type": "error",
     "traceback": [
      "\u001b[1;31m---------------------------------------------------------------------------\u001b[0m",
      "\u001b[1;31mAttributeError\u001b[0m                            Traceback (most recent call last)",
      "Cell \u001b[1;32mIn [12], line 74\u001b[0m\n\u001b[0;32m     72\u001b[0m \u001b[39mwith\u001b[39;00m tf\u001b[39m.\u001b[39mSession() \u001b[39mas\u001b[39;00m sess:\n\u001b[0;32m     73\u001b[0m     sess\u001b[39m.\u001b[39mrun(init_op)\n\u001b[1;32m---> 74\u001b[0m     total_batch \u001b[39m=\u001b[39m \u001b[39mint\u001b[39m(\u001b[39mlen\u001b[39m(input_data\u001b[39m.\u001b[39;49mtrain\u001b[39m.\u001b[39mlabels) \u001b[39m/\u001b[39m batch_size)\n\u001b[0;32m     75\u001b[0m     \u001b[39mfor\u001b[39;00m epoch \u001b[39min\u001b[39;00m \u001b[39mrange\u001b[39m(epochs):\n\u001b[0;32m     76\u001b[0m         avg_cost \u001b[39m=\u001b[39m \u001b[39m0\u001b[39m\n",
      "\u001b[1;31mAttributeError\u001b[0m: 'dict' object has no attribute 'train'"
     ]
    }
   ],
   "source": [
    "# Step 1: Include the necessary modules for TensorFlow and the data set modules, which are needed to compute the CNN model.\n",
    "import tensorflow.compat.v1 as tf\n",
    "tf.disable_v2_behavior()\n",
    "\n",
    "import numpy as np\n",
    "\n",
    "import tensorflow_datasets\n",
    "input_data = tensorflow_datasets.load('mnist')\n",
    "\n",
    "\n",
    "# Step 2: Declare a function called run_cnn(), which includes various parameters and optimization variables with declaration of data placeholders. \n",
    "# These optimization variables will declare the training pattern.\n",
    "\n",
    "learning_rate = 0.0001\n",
    "epochs = 10\n",
    "batch_size = 50\n",
    "\n",
    "def run_cnn():\n",
    "    learning_rate = 0.0001\n",
    "    epochs = 10\n",
    "    batch_size = 50\n",
    "if __name__ == \"__main__\":\n",
    "    run_cnn()\n",
    "# Step 3: In this step, we will declare the training data placeholders with input parameters - for 28 x 28 pixels = 784. \n",
    "# This is the flattened image data that is drawn from mnist.train.nextbatch().\n",
    "x = tf.placeholder(tf.float32, [None, 784])\n",
    "x_shaped = tf.reshape(x, [-1, 28, 28, 1])\n",
    "y = tf.placeholder(tf.float32, [None, 10])\n",
    "\n",
    "# Step 4: Now it is important to create some convolutional layers:\n",
    "def create_new_conv_layer(input_data, num_input_channels, num_filters, filter_shape, pool_shape, name):\n",
    "    conv_filt_shape = [filter_shape[0], filter_shape[1], num_input_channels, num_filters]\n",
    "    weights = tf.Variable(tf.truncated_normal(conv_filt_shape, stddev=0.03), name=name+'_W')\n",
    "    bias = tf.Variable(tf.truncated_normal([num_filters]), name=name+'_b')\n",
    "    #Out layer defines the output\n",
    "    out_layer = tf.nn.conv2d(input_data, weights, [1, 1, 1, 1], padding='SAME')\n",
    "    out_layer += bias\n",
    "    out_layer = tf.nn.relu(out_layer)\n",
    "    ksize = [1, pool_shape[0], pool_shape[1], 1]\n",
    "    strides = [1, 2, 2, 1]\n",
    "    out_layer = tf.nn.max_pool(out_layer, ksize=ksize, strides=strides, padding='SAME')\n",
    "    return out_layer\n",
    "    \n",
    "layer1 = create_new_conv_layer(x_shaped, 1, 32, [5, 5], [2, 2], name='layer1')\n",
    "layer2 = create_new_conv_layer(layer1, 32, 64, [5, 5], [2, 2], name='layer2')\n",
    "\n",
    "# Step 5: Let us flatten the output ready for the fully connected output stage - after two layers of stride 2 pooling with the dimensions \n",
    "# of 28 x 28, to dimension of 14 x 14 or minimum 7 x 7 x,y co-ordinates, but with 64 output channels. To create the fully connected with \n",
    "# \"dense\" layer, the new shape needs to be [-1, 7 x 7 x 64]. We can set up some weights and bias values for this layer, then activate with ReLU.\n",
    "flattened = tf.reshape(layer2, [-1, 7 * 7 * 64])\n",
    "wd1 = tf.Variable(tf.truncated_normal([7 * 7 * 64, 1000], stddev=0.03), name='wd1')\n",
    "bd1 = tf.Variable(tf.truncated_normal([1000], stddev=0.01), name='bd1')\n",
    "dense_layer1 = tf.matmul(flattened, wd1) + bd1\n",
    "dense_layer1 = tf.nn.relu(dense_layer1)\n",
    "\n",
    "# Step 6: Another layer with specific softmax activations with the required optimizer defines the accuracy assessment, \n",
    "# which makes the setup of initialization operator.\n",
    "wd2 = tf.Variable(tf.truncated_normal([1000, 10], stddev=0.03), name='wd2')\n",
    "bd2 = tf.Variable(tf.truncated_normal([10], stddev=0.01), name='bd2')\n",
    "dense_layer2 = tf.matmul(dense_layer1, wd2) + bd2\n",
    "y_ = tf.nn.softmax(dense_layer2)\n",
    "cross_entropy = tf.reduce_mean(tf.nn.softmax_cross_entropy_with_logits(logits=dense_layer2, labels=y))\n",
    "optimiser = tf.train.AdamOptimizer(learning_rate=learning_rate).minimize(cross_entropy)\n",
    "correct_prediction = tf.equal(tf.argmax(y, 1), tf.argmax(y_, 1))\n",
    "accuracy = tf.reduce_mean(tf.cast(correct_prediction, tf.float32))\n",
    "init_op = tf.global_variables_initializer()\n",
    "\n",
    "# Step 7: We should set up recording variables. This adds up a summary to store the accuracy of data.\n",
    "tf.summary.scalar('accuracy', accuracy)\n",
    "merged = tf.summary.merge_all()\n",
    "writer = tf.summary.FileWriter('C:/Users/Sagar/Desktop/AIwithPython/Module6/Tensorflow')\n",
    "with tf.Session() as sess:\n",
    "    sess.run(init_op)\n",
    "    total_batch = int(len(input_data.train.labels) / batch_size)\n",
    "    for epoch in range(epochs):\n",
    "        avg_cost = 0\n",
    "        for i in range(total_batch):\n",
    "            batch_x, batch_y = input_data.train.next_batch(batch_size=batch_size)\n",
    "            _, c = sess.run([optimiser, cross_entropy], feed_dict={x: batch_x, y: batch_y})\n",
    "            avg_cost += c / total_batch\n",
    "        test_acc = sess.run(accuracy, feed_dict={x: input_data.test.images, y: input_data.test.labels})\n",
    "        summary = sess.run(merged, feed_dict={x: input_data.test.images, y: input_data.test.labels})\n",
    "        writer.add_summary(summary, epoch)\n",
    "\n",
    "        print(\"\\nTraining complete!\")\n",
    "        writer.add_graph(sess.graph)\n",
    "        print(sess.run(accuracy, feed_dict={x: input_data.test.images, y: input_data.test.labels}))"
   ]
  },
  {
   "cell_type": "code",
   "execution_count": null,
   "metadata": {},
   "outputs": [],
   "source": []
  }
 ],
 "metadata": {
  "kernelspec": {
   "display_name": "Python 3.10.8 64-bit",
   "language": "python",
   "name": "python3"
  },
  "language_info": {
   "codemirror_mode": {
    "name": "ipython",
    "version": 3
   },
   "file_extension": ".py",
   "mimetype": "text/x-python",
   "name": "python",
   "nbconvert_exporter": "python",
   "pygments_lexer": "ipython3",
   "version": "3.10.8"
  },
  "orig_nbformat": 4,
  "vscode": {
   "interpreter": {
    "hash": "2e1984914bfec2b620dc72bb669e7a06684a6f70d313211b880fdcdc7f0f0298"
   }
  }
 },
 "nbformat": 4,
 "nbformat_minor": 2
}
