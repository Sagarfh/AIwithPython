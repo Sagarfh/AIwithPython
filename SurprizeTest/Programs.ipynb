{
 "cells": [
  {
   "cell_type": "code",
   "execution_count": 15,
   "metadata": {},
   "outputs": [
    {
     "name": "stdout",
     "output_type": "stream",
     "text": [
      "1 to the power of  4 is :  1\n",
      "2 to the power of  4 is :  16\n",
      "3 to the power of  4 is :  81\n"
     ]
    }
   ],
   "source": [
    "#Python prgm to find the power of a numbers in a list ising recursion\n",
    "\n",
    "def power(n,m):\n",
    "    ans=(n**m)\n",
    "    print(n,\"to the power of \",m,\"is : \",ans)\n",
    "\n",
    "list=[1,2,3]\n",
    "m=4\n",
    "for i in list:\n",
    "    power(i,m)"
   ]
  },
  {
   "cell_type": "code",
   "execution_count": 2,
   "metadata": {},
   "outputs": [
    {
     "name": "stdout",
     "output_type": "stream",
     "text": [
      "This is  KEONICS  and we opted for the course  AI with Python and the timings are from  5:00 pm  to  7:00 pm\n"
     ]
    }
   ],
   "source": [
    "#print multiple arguments in pytohn and call a function to display the arguments\n",
    "\n",
    "def disp(a,b,c,d):\n",
    "    print(\"This is \",a,\" and we opted for the course \",b,\"and the timings are from \",c,\" to \",d)\n",
    "\n",
    "name='KEONICS'\n",
    "course='AI with Python'\n",
    "start_Time='5:00 pm'\n",
    "end_Time='7:00 pm'\n",
    "\n",
    "disp(name,course,start_Time,end_Time)"
   ]
  },
  {
   "cell_type": "code",
   "execution_count": 3,
   "metadata": {},
   "outputs": [
    {
     "name": "stdout",
     "output_type": "stream",
     "text": [
      "The entered list is :  [2, 7, 8, 5, 1, 9]\n",
      "The sorted list is :  None\n",
      "[1, 2, 5, 7, 8, 9]\n"
     ]
    }
   ],
   "source": [
    "#prgm to sort unsorted numbers using list\n",
    "\n",
    "list2=[2,7,8,5,1,9]\n",
    "print(\"The entered list is : \",list2)\n",
    "print(\"The sorted list is : \",list2.sort())\n",
    "print(list2)"
   ]
  },
  {
   "cell_type": "code",
   "execution_count": 12,
   "metadata": {},
   "outputs": [
    {
     "name": "stdout",
     "output_type": "stream",
     "text": [
      "<function <lambda> at 0x000001EFB343A680>\n"
     ]
    }
   ],
   "source": [
    "#fibonacci series upto n using lambda function\n",
    "\n",
    "n=10\n",
    "if(n==0):\n",
    "    print(\"0\")\n",
    "elif(n==1):\n",
    "    print(\"1\")\n",
    "else:\n",
    "    lambda_ans = lambda a: n + (n-1)\n",
    "    print(lambda_ans)"
   ]
  },
  {
   "cell_type": "code",
   "execution_count": null,
   "metadata": {},
   "outputs": [],
   "source": []
  }
 ],
 "metadata": {
  "kernelspec": {
   "display_name": "Python 3.10.0 64-bit",
   "language": "python",
   "name": "python3"
  },
  "language_info": {
   "codemirror_mode": {
    "name": "ipython",
    "version": 3
   },
   "file_extension": ".py",
   "mimetype": "text/x-python",
   "name": "python",
   "nbconvert_exporter": "python",
   "pygments_lexer": "ipython3",
   "version": "3.10.0"
  },
  "orig_nbformat": 4,
  "vscode": {
   "interpreter": {
    "hash": "9b4d75ac280b6c7c3aa43866cb82dc88915409b55fec83a093dd0284cb58708e"
   }
  }
 },
 "nbformat": 4,
 "nbformat_minor": 2
}
