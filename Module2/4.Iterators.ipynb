{
 "cells": [
  {
   "cell_type": "code",
   "execution_count": null,
   "metadata": {},
   "outputs": [],
   "source": [
    "# Iterators\n",
    "# acts on objects like lists, tuples, dicts and sets\n",
    "\n",
    "# iterator obejct is initilized using iter() method\n",
    "# It uses next() method for iteration\n",
    "\n",
    "# __iter()__ method that called for initilization of iterator\n",
    "# __next__ method returns the next value for the iterable"
   ]
  }
 ],
 "metadata": {
  "kernelspec": {
   "display_name": "Python 3.10.0 64-bit",
   "language": "python",
   "name": "python3"
  },
  "language_info": {
   "name": "python",
   "version": "3.10.0"
  },
  "orig_nbformat": 4,
  "vscode": {
   "interpreter": {
    "hash": "9b4d75ac280b6c7c3aa43866cb82dc88915409b55fec83a093dd0284cb58708e"
   }
  }
 },
 "nbformat": 4,
 "nbformat_minor": 2
}
