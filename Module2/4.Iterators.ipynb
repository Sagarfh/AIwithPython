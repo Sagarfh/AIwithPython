{
 "cells": [
  {
   "cell_type": "code",
   "execution_count": 1,
   "metadata": {},
   "outputs": [],
   "source": [
    "# Iterators\n",
    "# acts on objects like lists, tuples, dicts and sets\n",
    "\n",
    "# iterator obejct is initilized using iter() method\n",
    "# It uses next() method for iteration\n",
    "\n",
    "# __iter()__ method that called for initilization of iterator\n",
    "# __next__ method returns the next value for the iterable\n",
    "# stop iteration raises after the edn of elements"
   ]
  },
  {
   "cell_type": "code",
   "execution_count": 7,
   "metadata": {},
   "outputs": [
    {
     "name": "stdout",
     "output_type": "stream",
     "text": [
      "alpha\n",
      "beta\n",
      "gama\n"
     ]
    }
   ],
   "source": [
    "# Example 1\n",
    "\n",
    "mytuple = (\"alpha\",\"beta\",\"gama\")\n",
    "\n",
    "myit = iter(mytuple)\n",
    "\n",
    "print(next(myit))\n",
    "print(next(myit))\n",
    "print(next(myit))"
   ]
  },
  {
   "cell_type": "code",
   "execution_count": 9,
   "metadata": {},
   "outputs": [
    {
     "name": "stdout",
     "output_type": "stream",
     "text": [
      "alpha1\n",
      "beta1\n",
      "gama1\n"
     ]
    }
   ],
   "source": [
    "# Example 2\n",
    "\n",
    "tuple = (\"alpha1\",\"beta1\",\"gama1\")\n",
    "for x in tuple:\n",
    "    print(x)"
   ]
  },
  {
   "cell_type": "code",
   "execution_count": 19,
   "metadata": {},
   "outputs": [
    {
     "name": "stdout",
     "output_type": "stream",
     "text": [
      "b a n a n a "
     ]
    }
   ],
   "source": [
    "# Example 3\n",
    "\n",
    "mystr = \"banana\"\n",
    "\n",
    "for i in mystr:\n",
    "    print(i, end=\" \")"
   ]
  },
  {
   "cell_type": "code",
   "execution_count": 20,
   "metadata": {},
   "outputs": [
    {
     "name": "stdout",
     "output_type": "stream",
     "text": [
      "b a n "
     ]
    }
   ],
   "source": [
    "# Example 4\n",
    "\n",
    "mystr = \"banana\"\n",
    "\n",
    "for i in range(len(mystr)):\n",
    "    if(i>2):\n",
    "        continue\n",
    "    print(mystr[i], end=\" \")"
   ]
  },
  {
   "cell_type": "code",
   "execution_count": null,
   "metadata": {},
   "outputs": [],
   "source": []
  }
 ],
 "metadata": {
  "kernelspec": {
   "display_name": "Python 3.10.8 64-bit",
   "language": "python",
   "name": "python3"
  },
  "language_info": {
   "codemirror_mode": {
    "name": "ipython",
    "version": 3
   },
   "file_extension": ".py",
   "mimetype": "text/x-python",
   "name": "python",
   "nbconvert_exporter": "python",
   "pygments_lexer": "ipython3",
   "version": "3.10.8"
  },
  "orig_nbformat": 4,
  "vscode": {
   "interpreter": {
    "hash": "2e1984914bfec2b620dc72bb669e7a06684a6f70d313211b880fdcdc7f0f0298"
   }
  }
 },
 "nbformat": 4,
 "nbformat_minor": 2
}
