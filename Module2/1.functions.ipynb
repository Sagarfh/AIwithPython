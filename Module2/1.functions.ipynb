{
 "cells": [
  {
   "cell_type": "code",
   "execution_count": 4,
   "metadata": {},
   "outputs": [],
   "source": [
    "# function\n",
    "def fun():\n",
    "    print(\"Welocme to GFG\")"
   ]
  },
  {
   "cell_type": "code",
   "execution_count": 5,
   "metadata": {},
   "outputs": [
    {
     "name": "stdout",
     "output_type": "stream",
     "text": [
      "Welocme to GFG\n"
     ]
    }
   ],
   "source": [
    "fun()"
   ]
  },
  {
   "cell_type": "code",
   "execution_count": 6,
   "metadata": {},
   "outputs": [
    {
     "name": "stdout",
     "output_type": "stream",
     "text": [
      "sum of  10  and  20  is  30\n"
     ]
    }
   ],
   "source": [
    "def fun(num1,num2):\n",
    "    result=num1+num2\n",
    "    print(\"sum of \",num1,\" and \",num2,\" is \",result)\n",
    "\n",
    "a=10\n",
    "b=20\n",
    "fun(a,b)"
   ]
  },
  {
   "cell_type": "code",
   "execution_count": 7,
   "metadata": {},
   "outputs": [
    {
     "name": "stdout",
     "output_type": "stream",
     "text": [
      "sum of 0  and  10  is \n",
      "10\n",
      "sum of 10  and  20  is \n",
      "30\n",
      "sum of 30  and  30  is \n",
      "60\n",
      "sum of 60  and  40  is \n",
      "100\n",
      "sum of 100  and  50  is \n",
      "150\n",
      "sum of 150  and  60  is \n",
      "210\n",
      "sum of 210  and  70  is \n",
      "280\n",
      "sum of 280  and  80  is \n",
      "360\n"
     ]
    }
   ],
   "source": [
    "def fun(list1):\n",
    "    result1=0\n",
    "    for index in range(len(list1)):\n",
    "        print(\"sum of\" ,result1,\" and \",list1[index],\" is \")\n",
    "        result1=result1+list1[index]\n",
    "        print(result1)\n",
    "\n",
    "list1=[10,20,30,40,50,60,70,80]\n",
    "fun(list1)"
   ]
  },
  {
   "cell_type": "code",
   "execution_count": 8,
   "metadata": {},
   "outputs": [
    {
     "name": "stdout",
     "output_type": "stream",
     "text": [
      "The result of  [10, 20, 30, 40, 50, 60, 70, 80]  is  360\n"
     ]
    }
   ],
   "source": [
    "def fun(list1):\n",
    "    result1=0\n",
    "    for index in range(len(list1)):\n",
    "    #    print(\"sum of\" ,result1,\" and \",list1[index],\" is \")\n",
    "        result1=result1+list1[index]\n",
    "    print(\"The result of \",list1,\" is \",result1)\n",
    "\n",
    "list1=[10,20,30,40,50,60,70,80]\n",
    "fun(list1)"
   ]
  },
  {
   "cell_type": "code",
   "execution_count": 6,
   "metadata": {},
   "outputs": [
    {
     "name": "stdout",
     "output_type": "stream",
     "text": [
      "The result of merge is  {1: 'Alpha', 2: 'Beta', 3: 'Gama'}\n"
     ]
    }
   ],
   "source": [
    "# Function to merge two lists as group of 1 name and 1 number\n",
    "\n",
    "def merge_fun(list1,list2):\n",
    "    for index in range(len(list1)):\n",
    "        result1=zip(list1,list2)\n",
    "    print(\"The result of merge is \",dict(result1))\n",
    "\n",
    "\n",
    "list1=[1,2,3]\n",
    "list2=[\"Alpha\",\"Beta\",\"Gama\"]\n",
    "merge_fun(list1,list2)"
   ]
  },
  {
   "cell_type": "code",
   "execution_count": null,
   "metadata": {},
   "outputs": [],
   "source": []
  }
 ],
 "metadata": {
  "kernelspec": {
   "display_name": "Python 3.10.0 64-bit",
   "language": "python",
   "name": "python3"
  },
  "language_info": {
   "codemirror_mode": {
    "name": "ipython",
    "version": 3
   },
   "file_extension": ".py",
   "mimetype": "text/x-python",
   "name": "python",
   "nbconvert_exporter": "python",
   "pygments_lexer": "ipython3",
   "version": "3.10.0"
  },
  "orig_nbformat": 4,
  "vscode": {
   "interpreter": {
    "hash": "9b4d75ac280b6c7c3aa43866cb82dc88915409b55fec83a093dd0284cb58708e"
   }
  }
 },
 "nbformat": 4,
 "nbformat_minor": 2
}
