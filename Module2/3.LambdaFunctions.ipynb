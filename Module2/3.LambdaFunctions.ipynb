{
 "cells": [
  {
   "cell_type": "code",
   "execution_count": 1,
   "metadata": {},
   "outputs": [
    {
     "data": {
      "text/plain": [
       "' \\nlambda arguments: expression\\n\\n'"
      ]
     },
     "execution_count": 1,
     "metadata": {},
     "output_type": "execute_result"
    }
   ],
   "source": [
    "# Lambda expressions\n",
    "\n",
    "# Syntax\n",
    "\"\"\" \n",
    "lambda arguments: expression\n",
    "\n",
    "\"\"\"\n",
    "\n",
    "# used in single line functions\n",
    "# no name is used like def"
   ]
  },
  {
   "cell_type": "code",
   "execution_count": 2,
   "metadata": {},
   "outputs": [
    {
     "name": "stdout",
     "output_type": "stream",
     "text": [
      "<function <lambda> at 0x00000216B30C6680>\n"
     ]
    }
   ],
   "source": [
    "string = 'Python is future'\n",
    "\n",
    "# lambda returns a function object\n",
    "print(lambda string: string)"
   ]
  },
  {
   "cell_type": "code",
   "execution_count": 15,
   "metadata": {},
   "outputs": [
    {
     "name": "stdout",
     "output_type": "stream",
     "text": [
      "Normal cube of number is :  125\n",
      "Lambda cube of number is :  125\n"
     ]
    }
   ],
   "source": [
    "def cube(y):\n",
    "    return y*y*y\n",
    "\n",
    "lambda_cube = lambda y: y*y*y\n",
    "\n",
    "# using the normally\n",
    "# defined function\n",
    "print(\"Normal cube of number is : \",cube(5))\n",
    "\n",
    "# using the lambda function\n",
    "print(\"Lambda cube of number is : \",lambda_cube(5))"
   ]
  },
  {
   "cell_type": "code",
   "execution_count": 18,
   "metadata": {},
   "outputs": [
    {
     "name": "stdout",
     "output_type": "stream",
     "text": [
      "Cube of value is :  27\n"
     ]
    }
   ],
   "source": [
    "# return lambda\n",
    "def cube():\n",
    "    return lambda y: y*y*y\n",
    "\n",
    "# L1 will act as function name in place of lambda\n",
    "L1=cube()\n",
    "print(\"Cube of value is : \",L1(3))"
   ]
  },
  {
   "cell_type": "code",
   "execution_count": 21,
   "metadata": {},
   "outputs": [
    {
     "name": "stdout",
     "output_type": "stream",
     "text": [
      "Multiplaction of value is :  6\n"
     ]
    }
   ],
   "source": [
    "# return lambda for multiplaction\n",
    "def cube(y):\n",
    "    n=y\n",
    "    return lambda x: x*n\n",
    "\n",
    "# L1 will act as function name in place of lambda\n",
    "L1=cube(3)\n",
    "print(\"Multiplaction of value is : \",L1(2))"
   ]
  },
  {
   "cell_type": "code",
   "execution_count": null,
   "metadata": {},
   "outputs": [],
   "source": []
  }
 ],
 "metadata": {
  "kernelspec": {
   "display_name": "Python 3.10.0 64-bit",
   "language": "python",
   "name": "python3"
  },
  "language_info": {
   "codemirror_mode": {
    "name": "ipython",
    "version": 3
   },
   "file_extension": ".py",
   "mimetype": "text/x-python",
   "name": "python",
   "nbconvert_exporter": "python",
   "pygments_lexer": "ipython3",
   "version": "3.10.0"
  },
  "orig_nbformat": 4,
  "vscode": {
   "interpreter": {
    "hash": "9b4d75ac280b6c7c3aa43866cb82dc88915409b55fec83a093dd0284cb58708e"
   }
  }
 },
 "nbformat": 4,
 "nbformat_minor": 2
}
