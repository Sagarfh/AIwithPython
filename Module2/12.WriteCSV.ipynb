{
 "cells": [
  {
   "cell_type": "code",
   "execution_count": null,
   "metadata": {},
   "outputs": [],
   "source": [
    "\"\"\"  \n",
    "writing to a csv file\n",
    "- csv.writer class\n",
    "- csv.DictWriter class\n",
    "\n",
    "\n",
    "csv file object should be opened with newline=\" \"\n",
    "\n",
    "\n",
    "csv.writer has 2 methods\n",
    "- writerow()\n",
    "    syntax : writerow(fields)\n",
    "\n",
    "- writerows()\n",
    "    syntax : writerows(rows)\n",
    "\n",
    "\"\"\""
   ]
  },
  {
   "cell_type": "code",
   "execution_count": 21,
   "metadata": {},
   "outputs": [
    {
     "name": "stdout",
     "output_type": "stream",
     "text": [
      "Number of Rows : 1\n",
      "Number of Rows : 2\n",
      "Number of Rows : 3\n",
      "Number of Rows : 4\n",
      "Number of Rows : 5\n",
      "Number of Rows : 6\n",
      "Number of Rows : 7\n",
      "Number of Rows : 8\n",
      "Number of Rows : 9\n",
      "Number of Rows : 10\n",
      "Number of Rows : 11\n",
      "Number of Rows : 12\n",
      "Number of Rows : 13\n",
      "Number of Rows : 14\n"
     ]
    }
   ],
   "source": [
    "import csv\n",
    "\n",
    "#field names\n",
    "fields = ['Name','Branch','Year','CGPA']\n",
    "\n",
    "#data rows of csv\n",
    "rows = [ ['Nikhil', 'COE', '2', '9.0'],\n",
    "        ['Sanchit', 'COE', '2', '9.1'],\n",
    "        ['Aditya', 'IT', '2', '9.3'],\n",
    "        ['Sagar', 'SE', '1', '9.5'],\n",
    "        ['Prateek', 'MCE', '3', '7.8'],\n",
    "        ['Sahil', 'EP', '2', '9.1']]\n",
    "\n",
    "#creating dataset\n",
    "filename = 'kle_university_records.csv'\n",
    "\n",
    "with open (filename,'w') as csvFile:\n",
    "    csvwriter = csv.writer(csvFile)\n",
    "\n",
    "    #writing fields\n",
    "    csvwriter.writerow(fields)\n",
    "\n",
    "    #writing rows\n",
    "    csvwriter.writerows(rows)\n",
    "\n",
    "with open (filename,'r') as File:\n",
    "    csvfile = csv.reader(File)\n",
    "    \n",
    "    for row in csvfile:\n",
    "        print(\"Number of Rows : %d\" %(csvfile.line_num))\n"
   ]
  },
  {
   "cell_type": "code",
   "execution_count": null,
   "metadata": {},
   "outputs": [],
   "source": [
    "\"\"\"  \n",
    "csv.DictWriter class has two methods for writing to csv\n",
    "\n",
    "- writeheader()\n",
    "- writerow()\n",
    "\"\"\""
   ]
  },
  {
   "cell_type": "code",
   "execution_count": 15,
   "metadata": {},
   "outputs": [
    {
     "name": "stdout",
     "output_type": "stream",
     "text": [
      "['branch', 'cgpa', 'name', 'year']\n",
      "[]\n",
      "['COE', '9.0', 'Nikhil', '2']\n",
      "[]\n",
      "['COE', '9.1', 'Sanchit', '2']\n",
      "[]\n",
      "['IT', '9.3', 'Aditya', '2']\n",
      "[]\n",
      "['SE', '9.5', 'Sagar', '1']\n",
      "[]\n",
      "['MCE', '7.8', 'Prateek', '3']\n",
      "[]\n",
      "['EP', '9.1', 'Sahil', '2']\n",
      "[]\n",
      "Number of Rows : 14\n"
     ]
    }
   ],
   "source": [
    "import csv\n",
    "\n",
    "#data rows as dictionaries\n",
    "myDict =[{'branch': 'COE', 'cgpa': '9.0',\n",
    "\t\t'name': 'Nikhil', 'year': '2'},\n",
    "\t\t{'branch': 'COE', 'cgpa': '9.1',\n",
    "\t\t'name': 'Sanchit', 'year': '2'},\n",
    "\t\t{'branch': 'IT', 'cgpa': '9.3',\n",
    "\t\t'name': 'Aditya', 'year': '2'},\n",
    "\t\t{'branch': 'SE', 'cgpa': '9.5',\n",
    "\t\t'name': 'Sagar', 'year': '1'},\n",
    "\t\t{'branch': 'MCE', 'cgpa': '7.8',\n",
    "\t\t'name': 'Prateek', 'year': '3'},\n",
    "\t\t{'branch': 'EP', 'cgpa': '9.1',\n",
    "\t\t'name': 'Sahil', 'year': '2'}]\n",
    "\n",
    "# field names\n",
    "fields = ['branch','cgpa','name','year']\n",
    "\n",
    "filename = 'university_records1.csv'\n",
    "\n",
    "with open(filename, 'w') as csvFile:\n",
    "\t# creating a csv dict writer object\n",
    "\twriter = csv.DictWriter(csvFile, fieldnames = fields)\n",
    "\t\n",
    "\t# writing headers (field names)\n",
    "\twriter.writeheader()\n",
    "\t\n",
    "\t# writing data rows\n",
    "\twriter.writerows(myDict)\n",
    "\n",
    "with open (filename,'r') as File:\n",
    "\tcsvFile = csv.reader(File)\n",
    "\t\n",
    "\tfor row in csvFile:\n",
    "\t\tprint(row)\n",
    "\tprint(\"Number of Rows : %d\" %(csvFile.line_num))"
   ]
  },
  {
   "cell_type": "code",
   "execution_count": null,
   "metadata": {},
   "outputs": [],
   "source": []
  }
 ],
 "metadata": {
  "kernelspec": {
   "display_name": "Python 3.10.0 64-bit",
   "language": "python",
   "name": "python3"
  },
  "language_info": {
   "codemirror_mode": {
    "name": "ipython",
    "version": 3
   },
   "file_extension": ".py",
   "mimetype": "text/x-python",
   "name": "python",
   "nbconvert_exporter": "python",
   "pygments_lexer": "ipython3",
   "version": "3.10.0"
  },
  "orig_nbformat": 4,
  "vscode": {
   "interpreter": {
    "hash": "9b4d75ac280b6c7c3aa43866cb82dc88915409b55fec83a093dd0284cb58708e"
   }
  }
 },
 "nbformat": 4,
 "nbformat_minor": 2
}
