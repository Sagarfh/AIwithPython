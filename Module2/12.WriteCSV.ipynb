{
 "cells": [
  {
   "cell_type": "code",
   "execution_count": null,
   "metadata": {},
   "outputs": [],
   "source": [
    "\"\"\"  \n",
    "writing to a csv file\n",
    "- csv.writer class\n",
    "- csv.DictWriter class\n",
    "\n",
    "\n",
    "csv file object should be opened with newline=\" \"\n",
    "\n",
    "\n",
    "csv.writer has 2 methods\n",
    "- writerow()\n",
    "    syntax : writerow(fields)\n",
    "\n",
    "- writerows()\n",
    "    syntax : writerows(rows)\n",
    "\n",
    "\"\"\""
   ]
  },
  {
   "cell_type": "code",
   "execution_count": 21,
   "metadata": {},
   "outputs": [
    {
     "name": "stdout",
     "output_type": "stream",
     "text": [
      "Number of Rows : 1\n",
      "Number of Rows : 2\n",
      "Number of Rows : 3\n",
      "Number of Rows : 4\n",
      "Number of Rows : 5\n",
      "Number of Rows : 6\n",
      "Number of Rows : 7\n",
      "Number of Rows : 8\n",
      "Number of Rows : 9\n",
      "Number of Rows : 10\n",
      "Number of Rows : 11\n",
      "Number of Rows : 12\n",
      "Number of Rows : 13\n",
      "Number of Rows : 14\n"
     ]
    }
   ],
   "source": [
    "import csv\n",
    "\n",
    "#field names\n",
    "fields = ['Name','Branch','Year','CGPA']\n",
    "\n",
    "#data rows of csv\n",
    "rows = [ ['Nikhil', 'COE', '2', '9.0'],\n",
    "        ['Sanchit', 'COE', '2', '9.1'],\n",
    "        ['Aditya', 'IT', '2', '9.3'],\n",
    "        ['Sagar', 'SE', '1', '9.5'],\n",
    "        ['Prateek', 'MCE', '3', '7.8'],\n",
    "        ['Sahil', 'EP', '2', '9.1']]\n",
    "\n",
    "#creating dataset\n",
    "filename = 'kle_university_records.csv'\n",
    "\n",
    "with open (filename,'w') as csvFile:\n",
    "    csvwriter = csv.writer(csvFile)\n",
    "\n",
    "    #writing fields\n",
    "    csvwriter.writerow(fields)\n",
    "\n",
    "    #writing rows\n",
    "    csvwriter.writerows(rows)\n",
    "\n",
    "with open (filename,'r') as File:\n",
    "    csvfile = csv.reader(File)\n",
    "    \n",
    "    for row in csvfile:\n",
    "        print(\"Number of Rows : %d\" %(csvfile.line_num))\n"
   ]
  },
  {
   "cell_type": "code",
   "execution_count": null,
   "metadata": {},
   "outputs": [],
   "source": [
    "\"\"\"  \n",
    "csv.DictWriter class has two methods for writing to csv\n",
    "\n",
    "- writeheader()\n",
    "- writerow()\n",
    "\"\"\""
   ]
  },
  {
   "cell_type": "code",
   "execution_count": 36,
   "metadata": {},
   "outputs": [
    {
     "ename": "ValueError",
     "evalue": "dict contains fields not in fieldnames: 'cgpa', 'year', 'name', 'branch'",
     "output_type": "error",
     "traceback": [
      "\u001b[1;31m---------------------------------------------------------------------------\u001b[0m",
      "\u001b[1;31mValueError\u001b[0m                                Traceback (most recent call last)",
      "\u001b[1;32mc:\\Users\\SAGAR\\OneDrive\\Desktop\\AI with Python\\AIwithPython\\Module2\\12.WriteCSV.ipynb Cell 4\u001b[0m in \u001b[0;36m<cell line: 22>\u001b[1;34m()\u001b[0m\n\u001b[0;32m     <a href='vscode-notebook-cell:/c%3A/Users/SAGAR/OneDrive/Desktop/AI%20with%20Python/AIwithPython/Module2/12.WriteCSV.ipynb#W3sZmlsZQ%3D%3D?line=26'>27</a>\u001b[0m \twriter\u001b[39m.\u001b[39mwriteheader()\n\u001b[0;32m     <a href='vscode-notebook-cell:/c%3A/Users/SAGAR/OneDrive/Desktop/AI%20with%20Python/AIwithPython/Module2/12.WriteCSV.ipynb#W3sZmlsZQ%3D%3D?line=28'>29</a>\u001b[0m \t\u001b[39m# writing data rows\u001b[39;00m\n\u001b[1;32m---> <a href='vscode-notebook-cell:/c%3A/Users/SAGAR/OneDrive/Desktop/AI%20with%20Python/AIwithPython/Module2/12.WriteCSV.ipynb#W3sZmlsZQ%3D%3D?line=29'>30</a>\u001b[0m \twriter\u001b[39m.\u001b[39;49mwriterows(mydict)\n\u001b[0;32m     <a href='vscode-notebook-cell:/c%3A/Users/SAGAR/OneDrive/Desktop/AI%20with%20Python/AIwithPython/Module2/12.WriteCSV.ipynb#W3sZmlsZQ%3D%3D?line=31'>32</a>\u001b[0m \u001b[39m\"\"\" with open (filename,'r') as File:\u001b[39;00m\n\u001b[0;32m     <a href='vscode-notebook-cell:/c%3A/Users/SAGAR/OneDrive/Desktop/AI%20with%20Python/AIwithPython/Module2/12.WriteCSV.ipynb#W3sZmlsZQ%3D%3D?line=32'>33</a>\u001b[0m \u001b[39m    csvfile = csv.reader(File)\u001b[39;00m\n\u001b[0;32m     <a href='vscode-notebook-cell:/c%3A/Users/SAGAR/OneDrive/Desktop/AI%20with%20Python/AIwithPython/Module2/12.WriteCSV.ipynb#W3sZmlsZQ%3D%3D?line=33'>34</a>\u001b[0m \u001b[39m    \u001b[39;00m\n\u001b[0;32m     <a href='vscode-notebook-cell:/c%3A/Users/SAGAR/OneDrive/Desktop/AI%20with%20Python/AIwithPython/Module2/12.WriteCSV.ipynb#W3sZmlsZQ%3D%3D?line=34'>35</a>\u001b[0m \u001b[39m    for row in csvfile:\u001b[39;00m\n\u001b[0;32m     <a href='vscode-notebook-cell:/c%3A/Users/SAGAR/OneDrive/Desktop/AI%20with%20Python/AIwithPython/Module2/12.WriteCSV.ipynb#W3sZmlsZQ%3D%3D?line=35'>36</a>\u001b[0m \u001b[39m\t\tprint(row)\u001b[39;00m\n\u001b[0;32m     <a href='vscode-notebook-cell:/c%3A/Users/SAGAR/OneDrive/Desktop/AI%20with%20Python/AIwithPython/Module2/12.WriteCSV.ipynb#W3sZmlsZQ%3D%3D?line=36'>37</a>\u001b[0m \u001b[39m    print(\"Number of Rows : %d\" %(csvfile.line_num)) \"\"\"\u001b[39;00m\n",
      "File \u001b[1;32mc:\\Program Files\\Python\\lib\\csv.py:157\u001b[0m, in \u001b[0;36mDictWriter.writerows\u001b[1;34m(self, rowdicts)\u001b[0m\n\u001b[0;32m    156\u001b[0m \u001b[39mdef\u001b[39;00m \u001b[39mwriterows\u001b[39m(\u001b[39mself\u001b[39m, rowdicts):\n\u001b[1;32m--> 157\u001b[0m     \u001b[39mreturn\u001b[39;00m \u001b[39mself\u001b[39;49m\u001b[39m.\u001b[39;49mwriter\u001b[39m.\u001b[39;49mwriterows(\u001b[39mmap\u001b[39;49m(\u001b[39mself\u001b[39;49m\u001b[39m.\u001b[39;49m_dict_to_list, rowdicts))\n",
      "File \u001b[1;32mc:\\Program Files\\Python\\lib\\csv.py:149\u001b[0m, in \u001b[0;36mDictWriter._dict_to_list\u001b[1;34m(self, rowdict)\u001b[0m\n\u001b[0;32m    147\u001b[0m     wrong_fields \u001b[39m=\u001b[39m rowdict\u001b[39m.\u001b[39mkeys() \u001b[39m-\u001b[39m \u001b[39mself\u001b[39m\u001b[39m.\u001b[39mfieldnames\n\u001b[0;32m    148\u001b[0m     \u001b[39mif\u001b[39;00m wrong_fields:\n\u001b[1;32m--> 149\u001b[0m         \u001b[39mraise\u001b[39;00m \u001b[39mValueError\u001b[39;00m(\u001b[39m\"\u001b[39m\u001b[39mdict contains fields not in fieldnames: \u001b[39m\u001b[39m\"\u001b[39m\n\u001b[0;32m    150\u001b[0m                          \u001b[39m+\u001b[39m \u001b[39m\"\u001b[39m\u001b[39m, \u001b[39m\u001b[39m\"\u001b[39m\u001b[39m.\u001b[39mjoin([\u001b[39mrepr\u001b[39m(x) \u001b[39mfor\u001b[39;00m x \u001b[39min\u001b[39;00m wrong_fields]))\n\u001b[0;32m    151\u001b[0m \u001b[39mreturn\u001b[39;00m (rowdict\u001b[39m.\u001b[39mget(key, \u001b[39mself\u001b[39m\u001b[39m.\u001b[39mrestval) \u001b[39mfor\u001b[39;00m key \u001b[39min\u001b[39;00m \u001b[39mself\u001b[39m\u001b[39m.\u001b[39mfieldnames)\n",
      "\u001b[1;31mValueError\u001b[0m: dict contains fields not in fieldnames: 'cgpa', 'year', 'name', 'branch'"
     ]
    }
   ],
   "source": [
    "import csv\n",
    "\n",
    "#data rows as dictonaries\n",
    "mydict =[{'branch': 'COE', 'cgpa': '9.0',\n",
    "\t\t'name': 'Nikhil', 'year': '2'},\n",
    "\t\t{'branch': 'COE', 'cgpa': '9.1',\n",
    "\t\t'name': 'Sanchit', 'year': '2'},\n",
    "\t\t{'branch': 'IT', 'cgpa': '9.3',\n",
    "\t\t'name': 'Aditya', 'year': '2'},\n",
    "\t\t{'branch': 'SE', 'cgpa': '9.5',\n",
    "\t\t'name': 'Sagar', 'year': '1'},\n",
    "\t\t{'branch': 'MCE', 'cgpa': '7.8',\n",
    "\t\t'name': 'Prateek', 'year': '3'},\n",
    "\t\t{'branch': 'EP', 'cgpa': '9.1',\n",
    "\t\t'name': 'Sahil', 'year': '2'}]\n",
    "\n",
    "# field names\n",
    "fileds = ['branch','cgpa','name','year']\n",
    "\n",
    "filename = 'university_records1.csv'\n",
    "\n",
    "with open(filename, 'w') as csvfile:\n",
    "\t# creating a csv dict writer object\n",
    "\twriter = csv.DictWriter(csvfile, fieldnames = fields)\n",
    "\t\n",
    "\t# writing headers (field names)\n",
    "\twriter.writeheader()\n",
    "\t\n",
    "\t# writing data rows\n",
    "\twriter.writerows(mydict)\n",
    "\n",
    "\"\"\" with open (filename,'r') as File:\n",
    "    csvfile = csv.reader(File)\n",
    "\t\n",
    "    for row in csvfile:\n",
    "\t\tprint(row)\n",
    "    print(\"Number of Rows : %d\" %(csvfile.line_num)) \"\"\""
   ]
  },
  {
   "cell_type": "code",
   "execution_count": null,
   "metadata": {},
   "outputs": [],
   "source": []
  }
 ],
 "metadata": {
  "kernelspec": {
   "display_name": "Python 3.10.0 64-bit",
   "language": "python",
   "name": "python3"
  },
  "language_info": {
   "codemirror_mode": {
    "name": "ipython",
    "version": 3
   },
   "file_extension": ".py",
   "mimetype": "text/x-python",
   "name": "python",
   "nbconvert_exporter": "python",
   "pygments_lexer": "ipython3",
   "version": "3.10.0"
  },
  "orig_nbformat": 4,
  "vscode": {
   "interpreter": {
    "hash": "9b4d75ac280b6c7c3aa43866cb82dc88915409b55fec83a093dd0284cb58708e"
   }
  }
 },
 "nbformat": 4,
 "nbformat_minor": 2
}
