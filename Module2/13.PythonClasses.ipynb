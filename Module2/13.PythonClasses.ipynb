{
 "cells": [
  {
   "cell_type": "code",
   "execution_count": null,
   "metadata": {},
   "outputs": [],
   "source": [
    "\"\"\"  \n",
    "Python OOPs Concepts\n",
    "\n",
    "- inheritance\n",
    "- encapsulation\n",
    "- polymorphism\n",
    "\"\"\""
   ]
  },
  {
   "cell_type": "code",
   "execution_count": null,
   "metadata": {},
   "outputs": [],
   "source": [
    "\"\"\"  \n",
    "Main Concepts\n",
    "\n",
    "- Class\n",
    "- Object\n",
    "- Polymorphism\n",
    "- Encapsulation\n",
    "- Inheritance\n",
    "- Data Abstraction\n",
    "\n",
    "\"\"\""
   ]
  },
  {
   "cell_type": "code",
   "execution_count": null,
   "metadata": {},
   "outputs": [],
   "source": [
    "\"\"\"  \n",
    "- Class is collection of objects.\n",
    "  Attributes are variables that belong to a class\n",
    "  Attributes are always public and can be accessed using dot operator\n",
    "\n",
    "\n",
    "Class Syntax is :\n",
    "\n",
    "  class ClassName:\n",
    "    #Statement-1\n",
    "\n",
    "\n",
    "    #Statement-N\n",
    "\n",
    "\"\"\""
   ]
  },
  {
   "cell_type": "code",
   "execution_count": null,
   "metadata": {},
   "outputs": [],
   "source": [
    "\"\"\"  \n",
    "- Objects\n",
    "\n",
    "  An object is an instance of Class.\n",
    "\n",
    "An object consists of :\n",
    "- State\n",
    "- Behavior\n",
    "- Identity\n",
    "\"\"\""
   ]
  },
  {
   "cell_type": "code",
   "execution_count": 2,
   "metadata": {},
   "outputs": [
    {
     "name": "stdout",
     "output_type": "stream",
     "text": [
      "mammal\n",
      "I'm a mammal\n",
      "I'm a dog\n"
     ]
    }
   ],
   "source": [
    "class Dog:\n",
    "    #attribute\n",
    "    attr1 = \"mammal\"\n",
    "    attr2 = \"dog\"\n",
    "\n",
    "    #A sample method\n",
    "    def fun(self):\n",
    "        print(\"I'm a\",self.attr1)\n",
    "        print(\"I'm a\",self.attr2)\n",
    "\n",
    "#Object instantiation\n",
    "Rodger = Dog()\n",
    "\n",
    "#Accessing class attribute and method through object\n",
    "print(Rodger.attr1)\n",
    "Rodger.fun()"
   ]
  },
  {
   "cell_type": "code",
   "execution_count": null,
   "metadata": {},
   "outputs": [],
   "source": [
    "\"\"\"  \n",
    "Polymorphism\n",
    "\n",
    "- simply means having many forms.\n",
    "\n",
    "\"\"\""
   ]
  },
  {
   "cell_type": "code",
   "execution_count": 6,
   "metadata": {},
   "outputs": [
    {
     "name": "stdout",
     "output_type": "stream",
     "text": [
      "There are many types of birds\n",
      "Most birds can fly but some can't fly\n",
      "There are many types of birds\n",
      "Sparrow can fly\n",
      "There are many types of birds\n",
      "Ostriches cannot fly\n"
     ]
    }
   ],
   "source": [
    "# Example\n",
    "\n",
    "class Bird:\n",
    "    def intro(self):\n",
    "        print(\"There are many types of birds\")\n",
    "\n",
    "    def flight(self):\n",
    "        print(\"Most birds can fly but some can't fly\")\n",
    "\n",
    "class sparrow(Bird):\n",
    "    def flight(self):\n",
    "        print(\"Sparrow can fly\")\n",
    "\n",
    "class ostrich(Bird):\n",
    "    def flight(self):\n",
    "        print(\"Ostriches cannot fly\")\n",
    "\n",
    "obj_bird = Bird()\n",
    "obj_spr = sparrow()\n",
    "obj_ost = ostrich()\n",
    "\n",
    "obj_bird.intro()\n",
    "obj_bird.flight()\n",
    "\n",
    "obj_spr.intro()\n",
    "obj_spr.flight()\n",
    "\n",
    "obj_ost.intro()\n",
    "obj_ost.flight()"
   ]
  },
  {
   "cell_type": "code",
   "execution_count": null,
   "metadata": {},
   "outputs": [],
   "source": [
    "\"\"\"  \n",
    "Encapsulation\n",
    "\n",
    "- wrapping of data and methods that work on data within one unit.\n",
    "- those type of variables are private\n",
    "- class is example of encapsulation\n",
    "\n",
    "\"\"\""
   ]
  },
  {
   "cell_type": "code",
   "execution_count": 7,
   "metadata": {},
   "outputs": [
    {
     "name": "stdout",
     "output_type": "stream",
     "text": [
      "Python World\n"
     ]
    }
   ],
   "source": [
    "# Example\n",
    "\n",
    "# Creating a Base class\n",
    "\n",
    "class Base:\n",
    "    def __init__(self):\n",
    "        self.a = \"Python World\"\n",
    "        self.__c = \"Python World\"\n",
    "\n",
    "#creating a derived class\n",
    "\n",
    "class Derived(Base):\n",
    "    def __init__(self):\n",
    "\n",
    "        #calling constructor of base class\n",
    "        Base.__init__(self)\n",
    "        print(\"Calling private member of base class : \")\n",
    "        print(self.__c)\n",
    "\n",
    "# Driver code\n",
    "obj1 = Base()\n",
    "print(obj1.a)"
   ]
  },
  {
   "cell_type": "code",
   "execution_count": null,
   "metadata": {},
   "outputs": [],
   "source": [
    "\"\"\"  \n",
    "Inheritance\n",
    "\n",
    "- capability of one class to derive or adopt the properties from another class.\n",
    "- acquire properties of parent class to a child class\n",
    "\n",
    "Benefits:\n",
    "    - represents real world relationships well.\n",
    "    - reusability of code.\n",
    "    - allows more features to a class without modifying it.\n",
    "    - transitive in nature.\n",
    "\n",
    "Types:\n",
    "    - Single inheritance\n",
    "    - Multilevel inheritance\n",
    "    - Hierarchical inheritance\n",
    "    - Multiple inheritance\n",
    "\"\"\""
   ]
  },
  {
   "cell_type": "code",
   "execution_count": 14,
   "metadata": {},
   "outputs": [
    {
     "name": "stdout",
     "output_type": "stream",
     "text": [
      "Employee Class\n",
      "Name :  Rahul\n",
      "ID Number :  886012\n",
      "My name is Rahul\n",
      "Id Number: 886012\n",
      "Post of employee : Intern\n",
      "\n",
      "\n",
      "Person Class\n",
      "My name is Python\n",
      "IdNumber: 10000\n",
      "Name :  Python\n",
      "ID Number :  10000\n"
     ]
    }
   ],
   "source": [
    "# Python code to demonstrate how parent constructors are called.\n",
    "\n",
    "# parent class\n",
    "class Person(object):\n",
    "\n",
    "    # __init__ is known as the constructor\n",
    "    def __init__(self, name, idnumber):\n",
    "        self.name = name\n",
    "        self.idnumber = idnumber\n",
    "\n",
    "    def display(self):\n",
    "        print(\"Name : \",self.name)\n",
    "        print(\"ID Number : \",self.idnumber)\n",
    "\n",
    "    def details(self):\n",
    "        print(\"My name is {}\".format(self.name))\n",
    "        print(\"IdNumber: {}\".format(self.idnumber))\n",
    "\n",
    "# child class\n",
    "class Employee(Person):\n",
    "    def __init__(self, name, idnumber, salary, post):\n",
    "        self.salary = salary\n",
    "        self.post = post\n",
    "\n",
    "        # invoking the __init__ of the parent class\n",
    "        Person.__init__(self, name, idnumber)\n",
    "\n",
    "    def details(self):\n",
    "        print(\"My name is {}\".format(self.name))\n",
    "        print(\"Id Number: {}\".format(self.idnumber))\n",
    "        print(\"Post of employee : {}\".format(self.post))\n",
    "\n",
    "\n",
    "# creation of an object variable or an instance\n",
    "a = Employee('Rahul', 886012, 200000, \"Intern\")\n",
    "b = Person('Python',10000)\n",
    "\n",
    "# calling a function of the class Person using its instance\n",
    "print(\"Employee Class\")\n",
    "a.display()\n",
    "a.details()\n",
    "\n",
    "print(\"\\n\")\n",
    "\n",
    "print(\"Person Class\")\n",
    "b.details()\n",
    "b.display()"
   ]
  },
  {
   "cell_type": "code",
   "execution_count": null,
   "metadata": {},
   "outputs": [],
   "source": [
    "\"\"\"  \n",
    "Data Abstraction\n",
    "\n",
    "    - hides unnecessary code details from the users.\n",
    "    - do not want to give out sensitive parts of code.\n",
    "\n",
    "can be achieved by creating abstract classes.\n",
    "\n",
    "\"\"\""
   ]
  },
  {
   "cell_type": "code",
   "execution_count": 17,
   "metadata": {},
   "outputs": [
    {
     "name": "stdout",
     "output_type": "stream",
     "text": [
      " A cricket ball consists of a cork core wound with string then a leather cover stitched on ,and manufacture is regulated by cricket law at first - class level . \n",
      " \n",
      " A football is a ball inflated with air that is used to play one of the various sports known as football . \n"
     ]
    }
   ],
   "source": [
    "from abc import ABC , abstractmethod\n",
    "class Ball ( ABC ) :\n",
    "    @abstractmethod\n",
    "    def definition ( self ) :\n",
    "        pass\n",
    "\n",
    "class cricketBall ( Ball ) :\n",
    "    def definition ( self ) :\n",
    "        print( \" A cricket ball consists of a cork core wound with string then a leather cover stitched on ,and manufacture is regulated by cricket law at first - class level . \" )\n",
    "\n",
    "class footBall ( Ball ) :\n",
    "    def definition ( self ) :\n",
    "        print ( \" \\n A football is a ball inflated with air that is used to play one of the various sports known as football . \" )\n",
    "\n",
    "cricket = cricketBall ( )\n",
    "cricket.definition ( )\n",
    "football = footBall ( )\n",
    "football.definition ( )"
   ]
  },
  {
   "cell_type": "code",
   "execution_count": null,
   "metadata": {},
   "outputs": [],
   "source": []
  }
 ],
 "metadata": {
  "kernelspec": {
   "display_name": "Python 3.10.0 64-bit",
   "language": "python",
   "name": "python3"
  },
  "language_info": {
   "codemirror_mode": {
    "name": "ipython",
    "version": 3
   },
   "file_extension": ".py",
   "mimetype": "text/x-python",
   "name": "python",
   "nbconvert_exporter": "python",
   "pygments_lexer": "ipython3",
   "version": "3.10.0"
  },
  "orig_nbformat": 4,
  "vscode": {
   "interpreter": {
    "hash": "9b4d75ac280b6c7c3aa43866cb82dc88915409b55fec83a093dd0284cb58708e"
   }
  }
 },
 "nbformat": 4,
 "nbformat_minor": 2
}
