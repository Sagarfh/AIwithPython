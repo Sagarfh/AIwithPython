{
 "cells": [
  {
   "cell_type": "code",
   "execution_count": 6,
   "metadata": {},
   "outputs": [
    {
     "name": "stdout",
     "output_type": "stream",
     "text": [
      "List :  64 Bytes\n",
      "Tuple :  28 Bytes\n"
     ]
    }
   ],
   "source": [
    "import sys\n",
    "\n",
    "list1 = [1]\n",
    "tuple1 = (1)\n",
    "\n",
    "print(\"List : \",sys.getsizeof(list1),\"Bytes\")\n",
    "print(\"Tuple : \",sys.getsizeof(tuple1),\"Bytes\")"
   ]
  },
  {
   "cell_type": "code",
   "execution_count": 1,
   "metadata": {},
   "outputs": [
    {
     "name": "stdout",
     "output_type": "stream",
     "text": [
      "People :  {'Archi', 'Idrish', 'Jay'}\n",
      "\n",
      " Set after adding element :  {1, 2, 3, 4, 5, 'Jay', 'Archi', 'Daxit', 'Idrish'}\n"
     ]
    }
   ],
   "source": [
    "#Creating a set\n",
    "\n",
    "people = {\"Jay\",\"Idrish\",\"Archi\"}\n",
    "\n",
    "print(\"People : \",end=\" \")\n",
    "print(people)\n",
    "\n",
    "# this will add Daxit in the set\n",
    "people.add(\"Daxit\")\n",
    "\n",
    "#adding elements to the set using iterator\n",
    "for i in range(1,6):\n",
    "    people.add(i)\n",
    "\n",
    "print(\"\\n Set after adding element : \",end=\" \")\n",
    "print(people)"
   ]
  },
  {
   "cell_type": "code",
   "execution_count": 4,
   "metadata": {},
   "outputs": [
    {
     "name": "stdout",
     "output_type": "stream",
     "text": [
      "Union using union() function\n",
      "{'karan', 'Jay', 'Arjun', 'Archi', 'Idrish'}\n",
      "Union using '|' operatior\n",
      "{'Raju', 'Jay', 'Archi', 'Deepanshu', 'Idrish'}\n"
     ]
    }
   ],
   "source": [
    "# UNION\n",
    "\n",
    "people = {\"Jay\",\"Idrish\",\"Archi\"}\n",
    "vampires = {\"karan\",\"Arjun\"}\n",
    "dracula = {\"Deepanshu\",\"Raju\"}\n",
    "\n",
    "# union using union() function\n",
    "\n",
    "population = people.union(vampires)\n",
    "\n",
    "print(\"Union using union() function\")\n",
    "print(population)\n",
    "\n",
    "# union using \"|\" operatior\n",
    "population = people | dracula\n",
    "\n",
    "print(\"Union using '|' operatior\")\n",
    "print(population)"
   ]
  },
  {
   "cell_type": "code",
   "execution_count": 10,
   "metadata": {},
   "outputs": [
    {
     "name": "stdout",
     "output_type": "stream",
     "text": [
      "Elements of set1 are :  {0, 1, 2, 3, 4}\n",
      "Elements of set2 are :  {2, 3, 4, 5}\n",
      "Intersection using intersection() function\n",
      "{2, 3, 4}\n",
      "Intersection using '&' operator\n",
      "{2, 3, 4}\n"
     ]
    }
   ],
   "source": [
    "# INTERSECTION\n",
    "\n",
    "set1 = set()\n",
    "set2 = set()\n",
    "\n",
    "for i in range(0,5):\n",
    "    set1.add(i)\n",
    "\n",
    "print(\"Elements of set1 are : \",set1)\n",
    "\n",
    "for i in range(2,6):\n",
    "    set2.add(i)\n",
    "\n",
    "print(\"Elements of set2 are : \",set2)\n",
    "\n",
    "\n",
    "# intersection() function\n",
    "set3 = set1.intersection(set2)\n",
    "\n",
    "print(\"Intersection using intersection() function\")\n",
    "print(set3)\n",
    "\n",
    "#intersetcion using & operator\n",
    "set3 = set1 & set2\n",
    "\n",
    "print(\"Intersection using '&' operator\")\n",
    "print(set3)\n"
   ]
  },
  {
   "cell_type": "code",
   "execution_count": 14,
   "metadata": {},
   "outputs": [
    {
     "name": "stdout",
     "output_type": "stream",
     "text": [
      "Elements of set1 are :  {0, 1, 2, 3, 4}\n",
      "Elements of set2 are :  {3, 4, 5, 6, 7, 8}\n",
      "Difference of two sets using difference() function\n",
      "{0, 1, 2}\n",
      "Difference using '-' operator with set1 to set2\n",
      "{0, 1, 2}\n",
      "Difference using '-' operator with set2 to set1\n",
      "{8, 5, 6, 7}\n"
     ]
    }
   ],
   "source": [
    "# DIFFERENCE\n",
    "\n",
    "set1 = set()\n",
    "set2 = set()\n",
    "\n",
    "for i in range(5):\n",
    "    set1.add(i)\n",
    "\n",
    "print(\"Elements of set1 are : \",set1)\n",
    "\n",
    "for i in range(3,9):\n",
    "    set2.add(i)\n",
    "\n",
    "print(\"Elements of set2 are : \",set2)\n",
    "\n",
    "\n",
    "# Difference of two sets using difference() function\n",
    "set3 = set1.difference(set2)\n",
    "\n",
    "print(\"Difference of two sets using difference() function\")\n",
    "print(set3)\n",
    "\n",
    "#intersetcion using '-' operator\n",
    "set3 = set1 - set2\n",
    "\n",
    "print(\"Difference using '-' operator with set1 to set2\")\n",
    "print(set3)\n",
    "\n",
    "#intersetcion using '-' operator\n",
    "set3 = set2 - set1\n",
    "\n",
    "print(\"Difference using '-' operator with set2 to set1\")\n",
    "print(set3)"
   ]
  },
  {
   "cell_type": "code",
   "execution_count": 15,
   "metadata": {},
   "outputs": [
    {
     "name": "stdout",
     "output_type": "stream",
     "text": [
      "Initial set\n",
      "{1, 2, 3, 4, 5, 6}\n",
      "\n",
      " Set after using clear() function \n",
      "set()\n"
     ]
    }
   ],
   "source": [
    "# Clearing sets\n",
    "\n",
    "set1 = {1,2,3,4,5,6}\n",
    "\n",
    "print(\"Initial set\")\n",
    "print(set1)\n",
    "\n",
    "#This method will remove all the elements of the set\n",
    "set1.clear()\n",
    "\n",
    "print(\"\\n Set after using clear() function \")\n",
    "print(set1)"
   ]
  },
  {
   "cell_type": "code",
   "execution_count": 16,
   "metadata": {},
   "outputs": [
    {
     "data": {
      "text/plain": [
       "\" \\nTwo majour pitfalls in python sets :\\n\\n1. The set doesn't maintain elements in any particular order\\n2. Only instances of immutable types can be added to a Python set\\n\\n\""
      ]
     },
     "execution_count": 16,
     "metadata": {},
     "output_type": "execute_result"
    }
   ],
   "source": [
    "\"\"\" \n",
    "Two majour pitfalls in python sets :\n",
    "\n",
    "1. The set doesn't maintain elements in any particular order\n",
    "2. Only instances of immutable types can be added to a Python set\n",
    "\n",
    "\"\"\""
   ]
  },
  {
   "cell_type": "code",
   "execution_count": 17,
   "metadata": {},
   "outputs": [
    {
     "data": {
      "text/plain": [
       "' \\nOperators for Sets\\n\\n    Operators                                   Notes\\n\\nkey in s                                containment check\\nkey not in s                            non-containment check\\ns1 == s2                                s1 equal to s2\\ns1 != s2                                s1 not equal to s2\\ns1 <= s2                                s1 less than or equal to s2\\ns1 < s2                                 s1 less than s2\\n\\n'"
      ]
     },
     "execution_count": 17,
     "metadata": {},
     "output_type": "execute_result"
    }
   ],
   "source": [
    "\"\"\" \n",
    "Operators for Sets\n",
    "\n",
    "    Operators                                   Notes\n",
    "\n",
    "key in s                                containment check\n",
    "key not in s                            non-containment check\n",
    "s1 == s2                                s1 equal to s2\n",
    "s1 != s2                                s1 not equal to s2\n",
    "s1 <= s2                                s1 less than or equal to s2\n",
    "s1 < s2                                 s1 less than s2\n",
    "\n",
    "\"\"\""
   ]
  },
  {
   "cell_type": "code",
   "execution_count": 21,
   "metadata": {},
   "outputs": [
    {
     "name": "stdout",
     "output_type": "stream",
     "text": [
      "Elements of set1 are :  {0, 1, 2, 3, 4}\n",
      "Elements of set2 are :  {3, 4, 5, 6, 7, 8}\n",
      "Set 1 and Set 2 are not Equal\n"
     ]
    }
   ],
   "source": [
    "set1 = set()\n",
    "set2 = set()\n",
    "\n",
    "for i in range(5):\n",
    "    set1.add(i)\n",
    "\n",
    "print(\"Elements of set1 are : \",set1)\n",
    "\n",
    "for i in range(3,9):\n",
    "    set2.add(i)\n",
    "\n",
    "print(\"Elements of set2 are : \",set2)\n",
    "\n",
    "if set1 == set2:\n",
    "    print(\"Set 1 and Set 2 are Equal\")\n",
    "\n",
    "else:\n",
    "    print(\"Set 1 and Set 2 are not Equal\")"
   ]
  },
  {
   "cell_type": "code",
   "execution_count": 22,
   "metadata": {},
   "outputs": [
    {
     "name": "stdout",
     "output_type": "stream",
     "text": [
      "Elements of set1 are :  {0, 1, 2, 3, 4}\n",
      "Elements of set2 are :  {3, 4, 5, 6, 7, 8}\n",
      "Set 1 and Set 2 are not Equal\n"
     ]
    }
   ],
   "source": [
    "set1 = set()\n",
    "set2 = set()\n",
    "\n",
    "for i in range(5):\n",
    "    set1.add(i)\n",
    "\n",
    "print(\"Elements of set1 are : \",set1)\n",
    "\n",
    "for i in range(3,9):\n",
    "    set2.add(i)\n",
    "\n",
    "print(\"Elements of set2 are : \",set2)\n",
    "\n",
    "if set1 != set2:\n",
    "    print(\"Set 1 and Set 2 are not Equal\")\n",
    "\n",
    "else:\n",
    "    print(\"Set 1 and Set 2 are Equal\")"
   ]
  },
  {
   "cell_type": "code",
   "execution_count": 27,
   "metadata": {},
   "outputs": [
    {
     "name": "stdout",
     "output_type": "stream",
     "text": [
      "Elements of set1 are :  {0, 1, 2, 3, 4}\n",
      "Elements of set2 are :  {0, 1, 2, 3}\n",
      "Set 2 and Set 1 are less than or Equal to\n"
     ]
    }
   ],
   "source": [
    "set1 = set()\n",
    "set2 = set()\n",
    "\n",
    "for i in range(5):\n",
    "    set1.add(i)\n",
    "\n",
    "print(\"Elements of set1 are : \",set1)\n",
    "\n",
    "for i in range(4):\n",
    "    set2.add(i)\n",
    "\n",
    "print(\"Elements of set2 are : \",set2)\n",
    "\n",
    "if set2 <= set1:\n",
    "    print(\"Set 2 and Set 1 are less than or Equal to\")\n",
    "\n",
    "else:\n",
    "    print(\"Set 2 and Set 1 are not less than or Equal to\")"
   ]
  },
  {
   "cell_type": "code",
   "execution_count": 28,
   "metadata": {},
   "outputs": [
    {
     "name": "stdout",
     "output_type": "stream",
     "text": [
      "{1: 'Geeks'}\n",
      "Geeks\n",
      "For\n"
     ]
    }
   ],
   "source": [
    "# Accessing elemet of nested dictonary\n",
    "\n",
    "#create dictonary\n",
    "Dict={'Dict1':{1:'Geeks'},\n",
    "        'Dict2':{'Name':'For'}}\n",
    "\n",
    "#accessing element using key\n",
    "print(Dict['Dict1'])\n",
    "print(Dict['Dict1'][1])\n",
    "print(Dict['Dict2']['Name'])\n"
   ]
  },
  {
   "cell_type": "code",
   "execution_count": 29,
   "metadata": {},
   "outputs": [
    {
     "data": {
      "text/plain": [
       "' \\nDictonary methods\\n\\n1. clear()\\n2. copy()\\n3. fromkeys()\\n4. get()\\n5. keys()\\n6. pop()\\n7. popitem()\\n8. setdefault()\\n9. update()\\n10. values()\\n'"
      ]
     },
     "execution_count": 29,
     "metadata": {},
     "output_type": "execute_result"
    }
   ],
   "source": [
    "\"\"\" \n",
    "Dictonary methods\n",
    "\n",
    "1. clear()\n",
    "2. copy()\n",
    "3. fromkeys()\n",
    "4. get()\n",
    "5. keys()\n",
    "6. pop()\n",
    "7. popitem()\n",
    "8. setdefault()\n",
    "9. update()\n",
    "10. values()\n",
    "\"\"\""
   ]
  },
  {
   "cell_type": "code",
   "execution_count": 37,
   "metadata": {},
   "outputs": [
    {
     "name": "stdout",
     "output_type": "stream",
     "text": [
      "{1: 'Python', 2: 'Java', 3: 'Rudy', 4: 'Scala'}\n",
      "{}\n",
      "Python\n",
      "dict_items([(1, 'Python'), (2, 'Java'), (3, 'Rudy'), (4, 'Scala')])\n",
      "dict_keys([1, 2, 3, 4])\n",
      "{1: 'Python', 2: 'Java', 3: 'Rudy'}\n",
      "{1: 'Python', 2: 'Java'}\n"
     ]
    }
   ],
   "source": [
    "dict1 = {1:'Python',2:'Java',3:'Rudy',4:'Scala'}\n",
    "\n",
    "#copy() method\n",
    "dict2 = dict1.copy()\n",
    "print(dict2)\n",
    "\n",
    "#clear() method\n",
    "dict1.clear()\n",
    "print(dict1)\n",
    "\n",
    "#get() method\n",
    "print(dict2.get(1))\n",
    "\n",
    "#items() method\n",
    "print(dict2.items())\n",
    "\n",
    "#keys() method\n",
    "print(dict2.keys())\n",
    "\n",
    "#pop() method\n",
    "dict2.pop(4) \n",
    "print(dict2)\n",
    "\n",
    "#popitem() method\n",
    "dict2.popitem()\n",
    "print(dict2)"
   ]
  },
  {
   "cell_type": "code",
   "execution_count": 38,
   "metadata": {},
   "outputs": [
    {
     "name": "stdout",
     "output_type": "stream",
     "text": [
      "H\n",
      "O\n",
      "Y\n",
      "T\n",
      "P\n",
      "N\n"
     ]
    }
   ],
   "source": [
    "# sets work with loops\n",
    "\n",
    "#creating a set using string\n",
    "test_set = set(\"PYTHON\")\n",
    "\n",
    "#iterating using for loop\n",
    "for val in test_set:\n",
    "    print(val)\n"
   ]
  },
  {
   "cell_type": "code",
   "execution_count": 39,
   "metadata": {},
   "outputs": [
    {
     "name": "stdout",
     "output_type": "stream",
     "text": [
      "0 h\n",
      "1 n\n",
      "2 y\n",
      "3 t\n",
      "4 o\n",
      "5 P\n"
     ]
    }
   ],
   "source": [
    "#creating a set using string\n",
    "test_set = set(\"Python\")\n",
    "\n",
    "#enumerate loop\n",
    "for id,val in enumerate(test_set):\n",
    "    print(id,val)\n"
   ]
  },
  {
   "cell_type": "code",
   "execution_count": 40,
   "metadata": {},
   "outputs": [
    {
     "name": "stdout",
     "output_type": "stream",
     "text": [
      "dict_keys(['A', 'B', 'C'])\n"
     ]
    }
   ],
   "source": [
    "# Access using the build.keys()\n",
    "\n",
    "statesAndCapitals ={\n",
    "    'A':'a',\n",
    "    'B':'b',\n",
    "    'C':'c'\n",
    "}\n",
    "\n",
    "keys = statesAndCapitals.keys()\n",
    "print(keys)"
   ]
  },
  {
   "cell_type": "code",
   "execution_count": 41,
   "metadata": {},
   "outputs": [
    {
     "name": "stdout",
     "output_type": "stream",
     "text": [
      "List of given states : \n",
      "\n",
      "A\n",
      "B\n",
      "C\n"
     ]
    }
   ],
   "source": [
    "# Access key without using the key()\n",
    "\n",
    "statesAndCapitals ={\n",
    "    'A':'a',\n",
    "    'B':'b',\n",
    "    'C':'c'\n",
    "}\n",
    "\n",
    "print(\"List of given states : \\n\")\n",
    "for state in statesAndCapitals:\n",
    "    print(state)"
   ]
  },
  {
   "cell_type": "code",
   "execution_count": null,
   "metadata": {},
   "outputs": [],
   "source": []
  }
 ],
 "metadata": {
  "kernelspec": {
   "display_name": "Python 3.10.0 64-bit",
   "language": "python",
   "name": "python3"
  },
  "language_info": {
   "codemirror_mode": {
    "name": "ipython",
    "version": 3
   },
   "file_extension": ".py",
   "mimetype": "text/x-python",
   "name": "python",
   "nbconvert_exporter": "python",
   "pygments_lexer": "ipython3",
   "version": "3.10.0"
  },
  "orig_nbformat": 4,
  "vscode": {
   "interpreter": {
    "hash": "9b4d75ac280b6c7c3aa43866cb82dc88915409b55fec83a093dd0284cb58708e"
   }
  }
 },
 "nbformat": 4,
 "nbformat_minor": 2
}
