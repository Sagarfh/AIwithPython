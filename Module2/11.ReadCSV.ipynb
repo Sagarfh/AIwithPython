{
 "cells": [
  {
   "cell_type": "markdown",
   "metadata": {},
   "source": [
    "Display Full Dataset"
   ]
  },
  {
   "cell_type": "code",
   "execution_count": 50,
   "metadata": {},
   "outputs": [
    {
     "name": "stdout",
     "output_type": "stream",
     "text": [
      "{'Date': 'Apr 26-28', 'Rank': '1', 'Gross': '357115000', 'Adj. Gross': '312723400', 'G_Change': '', 'Theaters': '4662', 'T_Change': '', 'Avg': '67100', 'Cum_gross': '312723400', 'Tickets': '39635400', 'Week': '1'}\n",
      "{'Date': 'May 3-5', 'Rank': '1', 'Gross': '147383200', 'Adj. Gross': '129062500', 'G_Change': '-0.59', 'Theaters': '4662', 'T_Change': '0', 'Avg': '27700', 'Cum_gross': '544049100', 'Tickets': '16357700', 'Week': '2'}\n",
      "{'Date': 'May 10-12', 'Rank': '1', 'Gross': '63299900', 'Adj. Gross': '55431300', 'G_Change': '-0.57', 'Theaters': '4662', 'T_Change': '0', 'Avg': '11900', 'Cum_gross': '633779500', 'Tickets': '7025500', 'Week': '3'}\n",
      "{'Date': 'May 17-19', 'Rank': '2', 'Gross': '29973500', 'Adj. Gross': '26247600', 'G_Change': '-0.53', 'Theaters': '4220', 'T_Change': '-442', 'Avg': '6200', 'Cum_gross': '675482400', 'Tickets': '3326700', 'Week': '4'}\n",
      "{'Date': 'May 24-26', 'Rank': '3', 'Gross': '17200700', 'Adj. Gross': '15062600', 'G_Change': '-0.43', 'Theaters': '3810', 'T_Change': '-410', 'Avg': '4000', 'Cum_gross': '699269800', 'Tickets': '1909100', 'Week': '5'}\n",
      "{'Date': 'May 31-Jun 2', 'Rank': '6', 'Gross': '8037500', 'Adj. Gross': '7038400', 'G_Change': '-0.53', 'Theaters': '3105', 'T_Change': '-705', 'Avg': '2300', 'Cum_gross': '714326300', 'Tickets': '892100', 'Week': '6'}\n",
      "{'Date': 'Jun 7-9', 'Rank': '8', 'Gross': '4871000', 'Adj. Gross': '4265500', 'G_Change': '-0.39', 'Theaters': '2121', 'T_Change': '-984', 'Avg': '2000', 'Cum_gross': '721954200', 'Tickets': '540600', 'Week': '7'}\n",
      "{'Date': 'Jun 14-16', 'Rank': '10', 'Gross': '3725900', 'Adj. Gross': '3262700', 'G_Change': '-0.24', 'Theaters': '1450', 'T_Change': '-671', 'Avg': '2300', 'Cum_gross': '727438900', 'Tickets': '413500', 'Week': '8'}\n",
      "{'Date': 'Jun 21-23', 'Rank': '13', 'Gross': '1987800', 'Adj. Gross': '1740700', 'G_Change': '-0.47', 'Theaters': '985', 'T_Change': '-465', 'Avg': '1800', 'Cum_gross': '730851200', 'Tickets': '220600', 'Week': '9'}\n",
      "{'Date': 'Jun 28-30', 'Rank': '7', 'Gross': '6108700', 'Adj. Gross': '5349400', 'G_Change': '2.07', 'Theaters': '2025', 'T_Change': '1040', 'Avg': '2600', 'Cum_gross': '737237700', 'Tickets': '678000', 'Week': '10'}\n",
      "{'Date': 'Jul 5-7', 'Rank': '9', 'Gross': '3118300', 'Adj. Gross': '2730700', 'G_Change': '-0.49', 'Theaters': '1985', 'T_Change': '-40', 'Avg': '1400', 'Cum_gross': '742484200', 'Tickets': '346100', 'Week': '11'}\n",
      "{'Date': 'Jul 12-14', 'Rank': '11', 'Gross': '2104300', 'Adj. Gross': '1842700', 'G_Change': '-0.33', 'Theaters': '1443', 'T_Change': '-542', 'Avg': '1300', 'Cum_gross': '745751600', 'Tickets': '233500', 'Week': '12'}\n",
      "{'Date': 'Jul 19-21', 'Rank': '11', 'Gross': '1514700', 'Adj. Gross': '1326400', 'G_Change': '-0.28', 'Theaters': '985', 'T_Change': '-458', 'Avg': '1300', 'Cum_gross': '748308200', 'Tickets': '168100', 'Week': '13'}\n",
      "{'Date': 'Jul 26-28', 'Rank': '11', 'Gross': '952600', 'Adj. Gross': '834200', 'G_Change': '-0.37', 'Theaters': '580', 'T_Change': '-405', 'Avg': '1400', 'Cum_gross': '750098500', 'Tickets': '105700', 'Week': '14'}\n",
      "{'Date': 'Aug 2-4', 'Rank': '14', 'Gross': '383200', 'Adj. Gross': '335500', 'G_Change': '-0.6', 'Theaters': '420', 'T_Change': '-160', 'Avg': '800', 'Cum_gross': '750889400', 'Tickets': '42500', 'Week': '15'}\n",
      "{'Date': 'Aug 9-11', 'Rank': '19', 'Gross': '209992', 'Adj. Gross': '183900', 'G_Change': '-0.45', 'Theaters': '237', 'T_Change': '-183', 'Avg': '800', 'Cum_gross': '751283700', 'Tickets': '23300', 'Week': '16'}\n",
      "{'Date': 'Aug 16-18', 'Rank': '29', 'Gross': '100749', 'Adj. Gross': '88200', 'G_Change': '-0.52', 'Theaters': '148', 'T_Change': '-89', 'Avg': '681', 'Cum_gross': '858142395', 'Tickets': '11200', 'Week': '17'}\n",
      "{'Date': 'Aug 23-25', 'Rank': '38', 'Gross': '50268', 'Adj. Gross': '44000', 'G_Change': '-0.5', 'Theaters': '115', 'T_Change': '-33', 'Avg': '437', 'Cum_gross': '858238683', 'Tickets': '5600', 'Week': '18'}\n",
      "{'Date': 'Aug 30-Sep 1', 'Rank': '40', 'Gross': '70775', 'Adj. Gross': '62000', 'G_Change': '0.41', 'Theaters': '110', 'T_Change': '-5', 'Avg': '600', 'Cum_gross': '751634000', 'Tickets': '7900', 'Week': '19'}\n",
      "{'Date': 'Sep 6-8', 'Rank': '61', 'Gross': '12680', 'Adj. Gross': '11100', 'G_Change': '-0.82', 'Theaters': '55', 'T_Change': '-55', 'Avg': '231', 'Cum_gross': '858366365', 'Tickets': '1400', 'Week': '20'}\n"
     ]
    }
   ],
   "source": [
    "import csv\n",
    "\n",
    "with open ('endgame_domestic_weekend.csv',mode='r') as fd:\n",
    "    csvFile = csv.DictReader(fd)\n",
    "\n",
    "    for data in csvFile:\n",
    "        print(data)"
   ]
  },
  {
   "cell_type": "markdown",
   "metadata": {},
   "source": [
    "Display Only Date"
   ]
  },
  {
   "cell_type": "code",
   "execution_count": 44,
   "metadata": {},
   "outputs": [
    {
     "name": "stdout",
     "output_type": "stream",
     "text": [
      "Apr 26-28\n",
      "May 3-5\n",
      "May 10-12\n",
      "May 17-19\n",
      "May 24-26\n",
      "May 31-Jun 2\n",
      "Jun 7-9\n",
      "Jun 14-16\n",
      "Jun 21-23\n",
      "Jun 28-30\n",
      "Jul 5-7\n",
      "Jul 12-14\n",
      "Jul 19-21\n",
      "Jul 26-28\n",
      "Aug 2-4\n",
      "Aug 9-11\n",
      "Aug 16-18\n",
      "Aug 23-25\n",
      "Aug 30-Sep 1\n",
      "Sep 6-8\n"
     ]
    }
   ],
   "source": [
    "import csv\n",
    "\n",
    "with open ('endgame_domestic_weekend.csv',mode='r') as fd:\n",
    "    csvFile = csv.DictReader(fd)\n",
    "\n",
    "    for data in csvFile:\n",
    "        print(data['Date'])"
   ]
  },
  {
   "cell_type": "markdown",
   "metadata": {},
   "source": [
    "Display Rank and Date"
   ]
  },
  {
   "cell_type": "code",
   "execution_count": 45,
   "metadata": {},
   "outputs": [
    {
     "name": "stdout",
     "output_type": "stream",
     "text": [
      "1 Apr 26-28\n",
      "1 May 3-5\n",
      "1 May 10-12\n",
      "2 May 17-19\n",
      "3 May 24-26\n",
      "6 May 31-Jun 2\n",
      "8 Jun 7-9\n",
      "10 Jun 14-16\n",
      "13 Jun 21-23\n",
      "7 Jun 28-30\n",
      "9 Jul 5-7\n",
      "11 Jul 12-14\n",
      "11 Jul 19-21\n",
      "11 Jul 26-28\n",
      "14 Aug 2-4\n",
      "19 Aug 9-11\n",
      "29 Aug 16-18\n",
      "38 Aug 23-25\n",
      "40 Aug 30-Sep 1\n",
      "61 Sep 6-8\n"
     ]
    }
   ],
   "source": [
    "import csv\n",
    "\n",
    "with open ('endgame_domestic_weekend.csv',mode='r') as fd:\n",
    "    csvFile = csv.DictReader(fd)\n",
    "\n",
    "    for data in csvFile:\n",
    "        print(data['Rank'],data['Date'])"
   ]
  },
  {
   "cell_type": "markdown",
   "metadata": {},
   "source": [
    "Display with condition\n",
    "\n",
    "if Average is grater than 2000 display Week and Tickets"
   ]
  },
  {
   "cell_type": "code",
   "execution_count": 47,
   "metadata": {},
   "outputs": [
    {
     "name": "stdout",
     "output_type": "stream",
     "text": [
      "1 39635400\n",
      "2 16357700\n",
      "4 3326700\n",
      "5 1909100\n",
      "6 892100\n",
      "8 413500\n",
      "10 678000\n",
      "15 42500\n",
      "16 23300\n",
      "17 11200\n",
      "18 5600\n",
      "19 7900\n",
      "20 1400\n"
     ]
    }
   ],
   "source": [
    "import csv\n",
    "\n",
    "with open ('endgame_domestic_weekend.csv',mode='r') as fd:\n",
    "    csvFile = csv.DictReader(fd)\n",
    "    \n",
    "    for data in csvFile:\n",
    "        if data['Avg'] > '2000':\n",
    "            print(data['Week'],data['Tickets'])"
   ]
  },
  {
   "cell_type": "markdown",
   "metadata": {},
   "source": [
    "Display with condition\n",
    "\n",
    "if Rank is less than 10 display Date and Tickets"
   ]
  },
  {
   "cell_type": "code",
   "execution_count": 49,
   "metadata": {},
   "outputs": [
    {
     "name": "stdout",
     "output_type": "stream",
     "text": [
      "Apr 26-28 39635400\n",
      "May 3-5 16357700\n",
      "May 10-12 7025500\n",
      "Jun 14-16 413500\n"
     ]
    }
   ],
   "source": [
    "import csv\n",
    "\n",
    "with open ('endgame_domestic_weekend.csv',mode='r') as fd:\n",
    "    csvFile = csv.DictReader(fd)\n",
    "    \n",
    "    for data in csvFile:\n",
    "        if data['Rank'] <= '10':\n",
    "            print(data['Date'],data['Tickets'])"
   ]
  },
  {
   "cell_type": "code",
   "execution_count": null,
   "metadata": {},
   "outputs": [],
   "source": []
  }
 ],
 "metadata": {
  "kernelspec": {
   "display_name": "Python 3.10.0 64-bit",
   "language": "python",
   "name": "python3"
  },
  "language_info": {
   "name": "python",
   "version": "3.10.0"
  },
  "orig_nbformat": 4,
  "vscode": {
   "interpreter": {
    "hash": "9b4d75ac280b6c7c3aa43866cb82dc88915409b55fec83a093dd0284cb58708e"
   }
  }
 },
 "nbformat": 4,
 "nbformat_minor": 2
}
