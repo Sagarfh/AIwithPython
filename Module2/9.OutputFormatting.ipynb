{
 "cells": [
  {
   "cell_type": "code",
   "execution_count": 2,
   "metadata": {},
   "outputs": [
    {
     "data": {
      "text/plain": [
       "' \\nOutput Formatting\\n\\nThe % operator can be used for string formatting.\\n\\n'"
      ]
     },
     "execution_count": 2,
     "metadata": {},
     "output_type": "execute_result"
    }
   ],
   "source": [
    "\"\"\" \n",
    "Output Formatting\n",
    "\n",
    "The % operator can be used for string formatting.\n",
    "\n",
    "\"\"\""
   ]
  },
  {
   "cell_type": "code",
   "execution_count": 6,
   "metadata": {},
   "outputs": [
    {
     "name": "stdout",
     "output_type": "stream",
     "text": [
      "Value : 12 \n",
      "Value : 12, Float Value : 1234.32\n"
     ]
    }
   ],
   "source": [
    "print(\"Value : %d \" %(12.3))\n",
    "print(\"Value : %2d, Float Value : %1.2f\" %(12.3,1234.3223))"
   ]
  },
  {
   "cell_type": "code",
   "execution_count": 9,
   "metadata": {},
   "outputs": [
    {
     "name": "stdout",
     "output_type": "stream",
     "text": [
      "Value :  1, Portal :  5.33\n"
     ]
    }
   ],
   "source": [
    "print(\"Value : %2d, Portal : %5.2f\" %(1,05.33))"
   ]
  },
  {
   "cell_type": "code",
   "execution_count": 10,
   "metadata": {},
   "outputs": [
    {
     "name": "stdout",
     "output_type": "stream",
     "text": [
      "Total students : 240, Boys : 120\n"
     ]
    }
   ],
   "source": [
    "print(\"Total students : %3d, Boys : %2d\" %(240,120))"
   ]
  },
  {
   "cell_type": "code",
   "execution_count": 27,
   "metadata": {},
   "outputs": [
    {
     "name": "stdout",
     "output_type": "stream",
     "text": [
      "Octal :     031\n"
     ]
    }
   ],
   "source": [
    "print(\"Octal : %7.3o\" %(25))"
   ]
  },
  {
   "cell_type": "code",
   "execution_count": 29,
   "metadata": {},
   "outputs": [
    {
     "name": "stdout",
     "output_type": "stream",
     "text": [
      "Exponent :  3.561E+02\n"
     ]
    }
   ],
   "source": [
    "print(\"Exponent : %10.3E\" %(356.08977))"
   ]
  },
  {
   "cell_type": "code",
   "execution_count": 33,
   "metadata": {},
   "outputs": [
    {
     "name": "stdout",
     "output_type": "stream",
     "text": [
      "Hello world !\n"
     ]
    }
   ],
   "source": [
    "\"\"\" \n",
    "With statement in file handeling\n",
    "\n",
    "\"\"\"\n",
    "\n",
    "file = open('file_path.txt','w')\n",
    "file.write('Hello world !')\n",
    "file.close()\n",
    "\n",
    "# with statement\n",
    "with open('file_path.txt') as file:\n",
    "    data = file.read()\n",
    "    print(data)"
   ]
  },
  {
   "cell_type": "code",
   "execution_count": 35,
   "metadata": {},
   "outputs": [
    {
     "ename": "SyntaxError",
     "evalue": "expected ':' (86979194.py, line 18)",
     "output_type": "error",
     "traceback": [
      "\u001b[1;36m  Input \u001b[1;32mIn [35]\u001b[1;36m\u001b[0m\n\u001b[1;33m    if(amount>2999)\u001b[0m\n\u001b[1;37m                   ^\u001b[0m\n\u001b[1;31mSyntaxError\u001b[0m\u001b[1;31m:\u001b[0m expected ':'\n"
     ]
    }
   ],
   "source": [
    "\"\"\" \n",
    "Handel file errors\n",
    "\n",
    "- Syntax errors\n",
    "        dynamic debuggers are present\n",
    "\n",
    "- Exceptions\n",
    "        exception are raised when internal events occur which changes the normal flow of program\n",
    "\n",
    "\"\"\"\n",
    "\n",
    "\n",
    "amount = 100000\n",
    "\n",
    "#check eligible\n",
    "\n",
    "# has syntax error after if condition\n",
    "if(amount>2999)\n",
    "    print(\"You are eligible to purchase\")"
   ]
  },
  {
   "cell_type": "code",
   "execution_count": 37,
   "metadata": {},
   "outputs": [
    {
     "ename": "ZeroDivisionError",
     "evalue": "division by zero",
     "output_type": "error",
     "traceback": [
      "\u001b[1;31m---------------------------------------------------------------------------\u001b[0m",
      "\u001b[1;31mZeroDivisionError\u001b[0m                         Traceback (most recent call last)",
      "\u001b[1;32mc:\\Users\\SAGAR\\OneDrive\\Desktop\\AI with Python\\AIwithPython\\Module2\\9.OutputFormatting.ipynb Cell 9\u001b[0m in \u001b[0;36m<cell line: 9>\u001b[1;34m()\u001b[0m\n\u001b[0;32m      <a href='vscode-notebook-cell:/c%3A/Users/SAGAR/OneDrive/Desktop/AI%20with%20Python/AIwithPython/Module2/9.OutputFormatting.ipynb#X11sZmlsZQ%3D%3D?line=3'>4</a>\u001b[0m marks \u001b[39m=\u001b[39m \u001b[39m10000\u001b[39m\n\u001b[0;32m      <a href='vscode-notebook-cell:/c%3A/Users/SAGAR/OneDrive/Desktop/AI%20with%20Python/AIwithPython/Module2/9.OutputFormatting.ipynb#X11sZmlsZQ%3D%3D?line=5'>6</a>\u001b[0m \u001b[39m#perform dicidsion with 0\u001b[39;00m\n\u001b[0;32m      <a href='vscode-notebook-cell:/c%3A/Users/SAGAR/OneDrive/Desktop/AI%20with%20Python/AIwithPython/Module2/9.OutputFormatting.ipynb#X11sZmlsZQ%3D%3D?line=6'>7</a>\u001b[0m \n\u001b[0;32m      <a href='vscode-notebook-cell:/c%3A/Users/SAGAR/OneDrive/Desktop/AI%20with%20Python/AIwithPython/Module2/9.OutputFormatting.ipynb#X11sZmlsZQ%3D%3D?line=7'>8</a>\u001b[0m \u001b[39m#exception error in the code with divide by 0\u001b[39;00m\n\u001b[1;32m----> <a href='vscode-notebook-cell:/c%3A/Users/SAGAR/OneDrive/Desktop/AI%20with%20Python/AIwithPython/Module2/9.OutputFormatting.ipynb#X11sZmlsZQ%3D%3D?line=8'>9</a>\u001b[0m a \u001b[39m=\u001b[39m marks\u001b[39m/\u001b[39;49m\u001b[39m0\u001b[39;49m\n\u001b[0;32m     <a href='vscode-notebook-cell:/c%3A/Users/SAGAR/OneDrive/Desktop/AI%20with%20Python/AIwithPython/Module2/9.OutputFormatting.ipynb#X11sZmlsZQ%3D%3D?line=9'>10</a>\u001b[0m \u001b[39mprint\u001b[39m(a)\n",
      "\u001b[1;31mZeroDivisionError\u001b[0m: division by zero"
     ]
    }
   ],
   "source": [
    "from pickletools import markobject\n",
    "\n",
    "\n",
    "marks = 10000\n",
    "\n",
    "#perform dicidsion with 0\n",
    "\n",
    "#exception error in the code with divide by 0\n",
    "a = marks/0\n",
    "print(a)"
   ]
  },
  {
   "cell_type": "code",
   "execution_count": 39,
   "metadata": {},
   "outputs": [
    {
     "name": "stdout",
     "output_type": "stream",
     "text": [
      "Second element = 2\n",
      "An error occured\n",
      "Element cant be fetched the length of list a is limited to 3\n"
     ]
    }
   ],
   "source": [
    "\"\"\" \n",
    "Try and Except Statements\n",
    "\n",
    "- used to catch expections\n",
    "\"\"\"\n",
    "\n",
    "a = [1,2,3]\n",
    "\n",
    "try:\n",
    "    print(\"Second element = %d\" %(a[1]))\n",
    "\n",
    "    #throws error because only 3 elements in array\n",
    "    print(\"Fourth element = %d\" %(a[3]))\n",
    "\n",
    "except:\n",
    "    print(\"An error occured\")\n",
    "    print(\"Element cant be fetched the length of list a is limited to %d\" %(len(a)))\n"
   ]
  },
  {
   "cell_type": "code",
   "execution_count": null,
   "metadata": {},
   "outputs": [],
   "source": []
  }
 ],
 "metadata": {
  "kernelspec": {
   "display_name": "Python 3.10.0 64-bit",
   "language": "python",
   "name": "python3"
  },
  "language_info": {
   "codemirror_mode": {
    "name": "ipython",
    "version": 3
   },
   "file_extension": ".py",
   "mimetype": "text/x-python",
   "name": "python",
   "nbconvert_exporter": "python",
   "pygments_lexer": "ipython3",
   "version": "3.10.0"
  },
  "orig_nbformat": 4,
  "vscode": {
   "interpreter": {
    "hash": "9b4d75ac280b6c7c3aa43866cb82dc88915409b55fec83a093dd0284cb58708e"
   }
  }
 },
 "nbformat": 4,
 "nbformat_minor": 2
}
