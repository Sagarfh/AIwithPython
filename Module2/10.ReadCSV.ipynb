{
 "cells": [
  {
   "cell_type": "code",
   "execution_count": null,
   "metadata": {},
   "outputs": [],
   "source": [
    "# Reading and loading text,csv data files using python\n",
    "\n",
    "import csv\n",
    "\n",
    "with open('Giants.csv', mode='r') as file:\n",
    "\n",
    "    #reading the csv file\n",
    "    csvFile = csv.reader(file)\n",
    "\n",
    "    #displaying the contents of csv file\n",
    "    for lines in csvFile:\n",
    "        print(lines)"
   ]
  }
 ],
 "metadata": {
  "language_info": {
   "name": "python"
  },
  "orig_nbformat": 4
 },
 "nbformat": 4,
 "nbformat_minor": 2
}
