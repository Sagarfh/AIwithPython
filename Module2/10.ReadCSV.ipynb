{
 "cells": [
  {
   "cell_type": "code",
   "execution_count": null,
   "metadata": {},
   "outputs": [],
   "source": [
    "# Reading and loading text,csv data files using python\n",
    "\n",
    "import csv\n",
    "\n",
    "with open('Giants.csv', mode='r') as file:\n",
    "\n",
    "    #reading the csv file\n",
    "    csvFile = csv.reader(file)\n",
    "\n",
    "    #displaying the contents of csv file\n",
    "    for lines in csvFile:\n",
    "        print(lines)"
   ]
  },
  {
   "cell_type": "code",
   "execution_count": 5,
   "metadata": {},
   "outputs": [],
   "source": [
    "import csv\n",
    "\n",
    "# field names\n",
    "fields = ['Name', 'Branch', 'Year', 'CGPA']\n",
    "\n",
    "# data rows of csv file\n",
    "rows = [ ['Nikhil', 'COE', '2', '9.0'],\n",
    "        ['Sanchit', 'COE', '2', '9.1'],\n",
    "        ['Aditya', 'IT', '2', '9.3'],\n",
    "        ['Sagar', 'SE', '1', '9.5'],\n",
    "        ['Prateek', 'MCE', '3', '7.8'],\n",
    "        ['Sahil', 'EP', '2', '9.1']]\n",
    "\n",
    "# name of csv file\n",
    "filename = \"university_records.csv\"\n",
    "\n",
    "# writing to csv file\n",
    "with open(filename, 'w') as csvfile:\n",
    "        # creating a csv writer object\n",
    "        csvwriter = csv.writer(csvfile)\n",
    "\n",
    "        # writing the fields\n",
    "        csvwriter.writerow(fields)\n",
    "\n",
    "        # writing the data rows\n",
    "        csvwriter.writerows(rows)"
   ]
  },
  {
   "cell_type": "code",
   "execution_count": 4,
   "metadata": {},
   "outputs": [],
   "source": [
    "# importing the csv module\n",
    "import csv\n",
    "\n",
    "# my data rows as dictionary objects\n",
    "mydict =[{'branch': 'COE', 'cgpa': '9.0',\n",
    "\t\t'name': 'Nikhil', 'year': '2'},\n",
    "\t\t{'branch': 'COE', 'cgpa': '9.1',\n",
    "\t\t'name': 'Sanchit', 'year': '2'},\n",
    "\t\t{'branch': 'IT', 'cgpa': '9.3',\n",
    "\t\t'name': 'Aditya', 'year': '2'},\n",
    "\t\t{'branch': 'SE', 'cgpa': '9.5',\n",
    "\t\t'name': 'Sagar', 'year': '1'},\n",
    "\t\t{'branch': 'MCE', 'cgpa': '7.8',\n",
    "\t\t'name': 'Prateek', 'year': '3'},\n",
    "\t\t{'branch': 'EP', 'cgpa': '9.1',\n",
    "\t\t'name': 'Sahil', 'year': '2'}]\n",
    "\n",
    "# field names\n",
    "fields = ['name', 'branch', 'year', 'cgpa']\n",
    "\n",
    "# name of csv file\n",
    "filename = \"university_records.csv\"\n",
    "\n",
    "# writing to csv file\n",
    "with open(filename, 'w') as csvfile:\n",
    "\t# creating a csv dict writer object\n",
    "\twriter = csv.DictWriter(csvfile, fieldnames = fields)\n",
    "\t\n",
    "\t# writing headers (field names)\n",
    "\twriter.writeheader()\n",
    "\t\n",
    "\t# writing data rows\n",
    "\twriter.writerows(mydict)\n"
   ]
  },
  {
   "cell_type": "code",
   "execution_count": 7,
   "metadata": {},
   "outputs": [],
   "source": [
    "import csv\n",
    "\n",
    "# field names\n",
    "fields = ['Name', 'Email']\n",
    "\n",
    "# data rows of csv file\n",
    "rows = [ ['Nikhil', 'nikhil.gfg@gmail.com'],\n",
    "        ['Sanchit', 'sanchit.gfg@gmail.com'],\n",
    "        ['Aditya', 'aditya.gfg@gmail.com'],\n",
    "        ['Sagar', 'sagar.gfg@gmail.com'],\n",
    "        ['Prateek', 'prateek.gfg@gmail.com'],\n",
    "        ['Sahil', 'sahil.gfg@gmail.com']]\n",
    "\n",
    "# name of csv file\n",
    "filename = \"email_records.csv\"\n",
    "\n",
    "# writing to csv file\n",
    "with open(filename, 'w') as csvfile:\n",
    "        # creating a csv writer object\n",
    "        csvwriter = csv.writer(csvfile)\n",
    "\n",
    "        # writing the fields\n",
    "        csvwriter.writerow(fields)\n",
    "        \n",
    "        # writing the data rows\n",
    "        csvwriter.writerows(rows)"
   ]
  },
  {
   "cell_type": "markdown",
   "metadata": {},
   "source": [
    "Reading Netflx Dataset"
   ]
  },
  {
   "cell_type": "code",
   "execution_count": 25,
   "metadata": {},
   "outputs": [
    {
     "name": "stdout",
     "output_type": "stream",
     "text": [
      "Purple Hearts\n",
      "Nikamma\n",
      "Radhe Shyam (Hindi)\n",
      "Look Both Ways\n",
      "The Royal Treatment\n",
      "Badhaai Do\n",
      "Wedding Season\n",
      "Persuasion\n",
      "Love Tactics\n",
      "The Entitled\n",
      "Hurdang\n",
      "A Perfect Pairing\n",
      "Hey Sinamika (Hindi)\n",
      "Heartsong\n",
      "Doom of Love\n",
      "Love and Leashes\n",
      "Don’t Blame Karma!\n",
      "In Good Hands\n",
      "Ante Sundaraniki (Tamil)\n",
      "Fast & Feel Love\n",
      "Heart Parade\n",
      "Hey Sinamika\n",
      "Toscana\n",
      "AI Love You\n"
     ]
    }
   ],
   "source": [
    "import csv\n",
    "\n",
    "with open ('netflix.csv',mode='r') as fd:\n",
    "    csvFile = csv.reader(fd)\n",
    "\n",
    "    #i=0\n",
    "    for data in csvFile:\n",
    "        if i==0:\n",
    "            i=i+1\n",
    "            continue\n",
    "\n",
    "        if data[4] == 'Romantic Movies' and data[1] == '2022':\n",
    "            print(data[0])"
   ]
  },
  {
   "cell_type": "code",
   "execution_count": null,
   "metadata": {},
   "outputs": [],
   "source": []
  }
 ],
 "metadata": {
  "kernelspec": {
   "display_name": "Python 3.10.0 64-bit",
   "language": "python",
   "name": "python3"
  },
  "language_info": {
   "codemirror_mode": {
    "name": "ipython",
    "version": 3
   },
   "file_extension": ".py",
   "mimetype": "text/x-python",
   "name": "python",
   "nbconvert_exporter": "python",
   "pygments_lexer": "ipython3",
   "version": "3.10.0"
  },
  "orig_nbformat": 4,
  "vscode": {
   "interpreter": {
    "hash": "9b4d75ac280b6c7c3aa43866cb82dc88915409b55fec83a093dd0284cb58708e"
   }
  }
 },
 "nbformat": 4,
 "nbformat_minor": 2
}
